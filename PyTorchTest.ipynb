{
 "cells": [
  {
   "cell_type": "code",
   "execution_count": 1,
   "id": "a3bddcc3",
   "metadata": {},
   "outputs": [
    {
     "name": "stdout",
     "output_type": "stream",
     "text": [
      "This notebook was generated at 2023-01-29 21:55:57 (GMT+0900) \n",
      "0 Python     3.10.9 64bit [GCC 11.2.0]\n",
      "1 IPython    8.8.0\n",
      "2 OS         Linux 5.15.0 58 generic x86_64 with glibc2.35\n",
      "3 numpy      1.23.5\n",
      "4 matplotlib 3.6.2\n",
      "5 pytorch    The 'pytorch' distribution was not found and is required by the application\n",
      "6 version_information 1.0.4\n"
     ]
    }
   ],
   "source": [
    "# %config InlineBackend.figure_format = 'retina'\n",
    "%load_ext version_information\n",
    "import time\n",
    "now = time.strftime(\"%Y-%m-%d %H:%M:%S (GMT%z)\")\n",
    "print(f\"This notebook was generated at {now} \")\n",
    "\n",
    "vv = %version_information numpy, matplotlib, pytorch, version_information\n",
    "for i, pkg in enumerate(vv.packages):\n",
    "    print(f\"{i} {pkg[0]:10s} {pkg[1]:s}\")"
   ]
  },
  {
   "cell_type": "code",
   "execution_count": 4,
   "id": "51ca2d32-6a9c-4afa-a4c9-8c4f1e741a91",
   "metadata": {},
   "outputs": [
    {
     "name": "stdout",
     "output_type": "stream",
     "text": [
      "The version_information extension is already loaded. To reload it, use:\n",
      "  %reload_ext version_information\n",
      "This notebook was generated at 2023-02-28 20:16:39 (GMT+0900) \n",
      "0 Python     3.9.7 64bit [GCC 7.5.0]\n",
      "1 IPython    8.8.0\n",
      "2 OS         Linux 3.10.0 862.3.3.el7.x86_64 x86_64 with glibc2.17\n",
      "3 numpy      1.23.5\n",
      "4 matplotlib 3.3.4\n",
      "5 torch      1.12.1\n",
      "6 version_information 1.0.4\n"
     ]
    }
   ],
   "source": [
    "# %config InlineBackend.figure_format = 'retina'\n",
    "%load_ext version_information\n",
    "import time\n",
    "now = time.strftime(\"%Y-%m-%d %H:%M:%S (GMT%z)\")\n",
    "print(f\"This notebook was generated at {now} \")\n",
    "\n",
    "vv = %version_information numpy, matplotlib, torch, version_information\n",
    "for i, pkg in enumerate(vv.packages):\n",
    "    print(f\"{i} {pkg[0]:10s} {pkg[1]:s}\")"
   ]
  },
  {
   "cell_type": "code",
   "execution_count": 2,
   "id": "d562b21e",
   "metadata": {},
   "outputs": [
    {
     "name": "stdout",
     "output_type": "stream",
     "text": [
      "tensor([[0.9913, 0.8089, 0.8867],\n",
      "        [0.2413, 0.5611, 0.5889],\n",
      "        [0.8517, 0.6346, 0.1943],\n",
      "        [0.7704, 0.1158, 0.6716],\n",
      "        [0.8906, 0.9264, 0.1943]])\n"
     ]
    }
   ],
   "source": [
    "import torch\n",
    "x = torch.rand(5, 3)\n",
    "print(x)"
   ]
  },
  {
   "cell_type": "code",
   "execution_count": 5,
   "id": "cb8ba2a2",
   "metadata": {},
   "outputs": [
    {
     "data": {
      "text/plain": [
       "False"
      ]
     },
     "execution_count": 5,
     "metadata": {},
     "output_type": "execute_result"
    }
   ],
   "source": [
    "import torch\n",
    "torch.cuda.is_available()"
   ]
  },
  {
   "cell_type": "code",
   "execution_count": 6,
   "id": "df997abd",
   "metadata": {},
   "outputs": [],
   "source": [
    "import torch\n",
    "import numpy as np"
   ]
  },
  {
   "cell_type": "code",
   "execution_count": 7,
   "id": "13903fd9",
   "metadata": {},
   "outputs": [],
   "source": [
    "data = [[1, 2],[3, 4]]\n",
    "x_data = torch.tensor(data)"
   ]
  },
  {
   "cell_type": "code",
   "execution_count": 8,
   "id": "a271d5d0-1fd6-4127-bd12-4ac8cad54255",
   "metadata": {},
   "outputs": [
    {
     "data": {
      "text/plain": [
       "tensor([[1, 2],\n",
       "        [3, 4]])"
      ]
     },
     "execution_count": 8,
     "metadata": {},
     "output_type": "execute_result"
    }
   ],
   "source": [
    "x_data"
   ]
  },
  {
   "cell_type": "code",
   "execution_count": 9,
   "id": "567b06af",
   "metadata": {},
   "outputs": [
    {
     "data": {
      "text/plain": [
       "tensor([[1, 2],\n",
       "        [3, 4]])"
      ]
     },
     "execution_count": 9,
     "metadata": {},
     "output_type": "execute_result"
    }
   ],
   "source": [
    "np_array = np.array(data)\n",
    "x_np = torch.from_numpy(np_array)\n",
    "x_np"
   ]
  },
  {
   "cell_type": "code",
   "execution_count": 10,
   "id": "aec242cb",
   "metadata": {},
   "outputs": [
    {
     "name": "stdout",
     "output_type": "stream",
     "text": [
      "Ones Tensor: \n",
      " tensor([[1, 1],\n",
      "        [1, 1]]) \n",
      "\n",
      "Random Tensor: \n",
      " tensor([[0.9543, 0.4732],\n",
      "        [0.8373, 0.2174]]) \n",
      "\n"
     ]
    }
   ],
   "source": [
    "x_ones = torch.ones_like(x_data) # retains the properties of x_data\n",
    "print(f\"Ones Tensor: \\n {x_ones} \\n\")\n",
    "\n",
    "x_rand = torch.rand_like(x_data, dtype=torch.float) # overrides the datatype of x_data\n",
    "print(f\"Random Tensor: \\n {x_rand} \\n\")"
   ]
  },
  {
   "cell_type": "code",
   "execution_count": 11,
   "id": "9f3449cc",
   "metadata": {},
   "outputs": [
    {
     "name": "stdout",
     "output_type": "stream",
     "text": [
      "Shape of tensor: torch.Size([3, 4])\n",
      "Datatype of tensor: torch.float32\n",
      "Device tensor is stored on: cpu\n"
     ]
    }
   ],
   "source": [
    "tensor = torch.rand(3,4)\n",
    "\n",
    "print(f\"Shape of tensor: {tensor.shape}\")\n",
    "print(f\"Datatype of tensor: {tensor.dtype}\")\n",
    "print(f\"Device tensor is stored on: {tensor.device}\")"
   ]
  },
  {
   "cell_type": "code",
   "execution_count": 12,
   "id": "ef156149-3ce0-47a0-9e1e-574e15eae161",
   "metadata": {},
   "outputs": [
    {
     "data": {
      "text/plain": [
       "tensor([[0.5828, 0.0893, 0.6796, 0.6871],\n",
       "        [0.1261, 0.8334, 0.6468, 0.5788],\n",
       "        [0.7905, 0.4681, 0.5992, 0.4012]])"
      ]
     },
     "execution_count": 12,
     "metadata": {},
     "output_type": "execute_result"
    }
   ],
   "source": [
    "tensor"
   ]
  },
  {
   "cell_type": "code",
   "execution_count": 13,
   "id": "cc651cce",
   "metadata": {},
   "outputs": [
    {
     "data": {
      "text/plain": [
       "device(type='cpu')"
      ]
     },
     "execution_count": 13,
     "metadata": {},
     "output_type": "execute_result"
    }
   ],
   "source": [
    "x_data.device"
   ]
  },
  {
   "cell_type": "code",
   "execution_count": 14,
   "id": "e2cf6edf",
   "metadata": {},
   "outputs": [],
   "source": [
    "# We move our tensor to the GPU if available\n",
    "if torch.cuda.is_available():\n",
    "    tensor = tensor.to(\"cuda\")"
   ]
  },
  {
   "cell_type": "code",
   "execution_count": 15,
   "id": "196ab332",
   "metadata": {},
   "outputs": [
    {
     "data": {
      "text/plain": [
       "device(type='cpu')"
      ]
     },
     "execution_count": 15,
     "metadata": {},
     "output_type": "execute_result"
    }
   ],
   "source": [
    "tensor.device"
   ]
  },
  {
   "cell_type": "markdown",
   "id": "d561a92f",
   "metadata": {},
   "source": [
    "## Autograd Tutorial"
   ]
  },
  {
   "cell_type": "raw",
   "id": "6829bd3d",
   "metadata": {},
   "source": [
    "https://pytorch.org/tutorials/beginner/blitz/autograd_tutorial.html"
   ]
  },
  {
   "cell_type": "markdown",
   "id": "715c8180",
   "metadata": {},
   "source": [
    "jupyter notebook --NotebookApp.iopub_data_rate_limit=1.0e10"
   ]
  },
  {
   "cell_type": "code",
   "execution_count": 15,
   "id": "fa71fda2",
   "metadata": {},
   "outputs": [],
   "source": [
    "import torch\n",
    "from torchvision.models import resnet18, ResNet18_Weights\n",
    "model = resnet18(weights=ResNet18_Weights.DEFAULT)\n",
    "data = torch.rand(1, 3, 64, 64)\n",
    "labels = torch.rand(1, 1000)"
   ]
  },
  {
   "cell_type": "code",
   "execution_count": 16,
   "id": "a40b9a4c",
   "metadata": {},
   "outputs": [],
   "source": [
    "prediction = model(data) # forward pass"
   ]
  },
  {
   "cell_type": "code",
   "execution_count": 17,
   "id": "d8a9e5fa-51b3-444d-b589-a08ed4617be3",
   "metadata": {
    "scrolled": true,
    "tags": []
   },
   "outputs": [
    {
     "data": {
      "text/plain": [
       "tensor([[-5.6020e-01, -4.0826e-01, -3.3506e-01, -1.2077e+00, -6.0846e-01,\n",
       "         -2.2332e-01, -1.8517e-01,  3.6943e-01,  2.8439e-01, -9.5479e-01,\n",
       "         -1.0420e+00, -1.0610e+00, -1.8095e-01, -8.3351e-01, -1.2543e+00,\n",
       "         -4.2260e-01, -8.3378e-01, -1.2133e-01, -7.3849e-01, -4.5440e-01,\n",
       "         -1.7107e+00, -7.3125e-01, -1.7907e+00, -1.5351e-02, -6.2514e-01,\n",
       "         -1.2065e+00, -7.9399e-01, -1.1904e+00, -7.9058e-01, -3.9277e-01,\n",
       "         -6.2808e-01, -5.5841e-01, -2.4754e-01, -3.6071e-01, -2.1674e-01,\n",
       "         -2.8867e-01,  7.7940e-01, -6.4751e-01, -5.4854e-01,  3.5910e-01,\n",
       "         -9.2545e-01, -6.0592e-01, -1.0611e+00, -3.4062e-02, -6.1738e-01,\n",
       "         -3.1030e-01, -8.0304e-01, -4.5436e-01, -8.0692e-01, -1.0867e+00,\n",
       "         -3.0882e-01,  6.7893e-01, -7.8331e-02, -3.6678e-01,  1.9767e-01,\n",
       "         -8.4266e-01, -5.2535e-02, -1.1879e+00, -4.2404e-02, -2.6817e-01,\n",
       "          9.8699e-01,  5.0126e-01,  3.0914e-01,  4.5095e-01, -2.4576e-01,\n",
       "          8.9379e-02, -1.2330e-01, -1.3481e-01, -5.3772e-01, -8.9249e-01,\n",
       "         -1.4326e+00, -1.9073e-02, -1.3958e+00, -1.0501e-01, -9.7946e-01,\n",
       "         -1.1504e+00,  2.4142e-01, -5.7402e-01,  3.8610e-01,  2.0482e-02,\n",
       "         -8.0845e-01, -1.4042e+00,  3.0631e-01, -7.2746e-01, -5.2615e-01,\n",
       "         -2.4261e-02,  4.6118e-01,  4.1462e-01,  9.1056e-03, -7.8091e-01,\n",
       "         -1.1659e+00, -1.0144e+00, -1.8710e+00, -5.3756e-01,  5.0953e-02,\n",
       "         -2.1809e+00, -9.6945e-01, -8.8001e-02, -1.2904e+00, -2.7158e-01,\n",
       "         -1.0445e+00, -6.6527e-01, -1.0202e+00,  3.4089e-02, -1.4192e-01,\n",
       "         -3.6486e-01, -2.5708e-01, -7.7305e-01, -8.3590e-01, -1.3011e+00,\n",
       "         -1.0553e+00, -3.7834e-01,  1.5493e+00,  4.5699e-01,  2.8661e-01,\n",
       "         -9.4842e-01, -3.5809e-01, -2.3432e-01,  6.7091e-01, -2.5032e-01,\n",
       "         -7.4061e-01,  1.9789e-01,  1.7297e-01,  2.1285e-01,  9.0327e-01,\n",
       "          2.7099e-01,  3.7334e-01, -1.4208e+00, -1.1667e+00, -1.0572e+00,\n",
       "         -1.3156e+00, -1.3329e+00, -8.7040e-01, -1.2564e+00, -6.5285e-01,\n",
       "         -1.2868e+00, -1.0405e+00, -1.0280e+00, -1.3472e+00, -1.4868e+00,\n",
       "         -1.5784e+00, -1.5825e+00, -2.0412e+00, -1.7764e+00, -4.8049e-01,\n",
       "         -4.5393e-01, -9.9183e-01, -1.5605e+00, -9.9697e-01, -7.7699e-01,\n",
       "          8.9485e-01,  1.2113e+00, -1.0671e+00, -4.4647e-01,  7.3397e-02,\n",
       "          2.0525e-01, -4.5633e-01, -3.6801e-01,  1.0389e-02,  3.6792e-01,\n",
       "          4.7192e-01,  6.7638e-01,  1.2941e-01,  8.6316e-01,  3.5758e-01,\n",
       "          4.6015e-02, -3.2710e-01, -5.2281e-01,  1.0112e+00, -6.0309e-01,\n",
       "          6.7229e-02,  6.7652e-01,  4.8253e-01,  3.7301e-02,  3.7047e-01,\n",
       "         -7.4037e-01,  2.6955e-01,  8.0731e-02,  9.2219e-01,  5.7961e-01,\n",
       "          5.3840e-01,  2.6483e-01,  5.9758e-01, -5.1085e-02,  6.8768e-01,\n",
       "          5.4219e-01,  8.6346e-02,  5.2215e-02, -2.7018e-02,  4.7025e-01,\n",
       "         -5.0482e-01,  4.4403e-01,  2.3400e-01,  2.9409e-01, -6.9774e-01,\n",
       "          4.2768e-01,  6.8362e-02,  2.6988e-01,  4.2049e-01,  3.7615e-01,\n",
       "          1.5434e-01, -1.3008e-01,  6.7337e-01,  4.9759e-01,  1.6383e-01,\n",
       "          3.3663e-01,  5.4410e-02,  7.3611e-01,  1.6445e+00,  7.8546e-01,\n",
       "          4.3694e-02,  5.4414e-01,  4.4699e-01,  1.3727e-01, -1.6649e-02,\n",
       "         -2.8662e-03, -4.3025e-03,  2.3345e-01, -3.3591e-01,  7.6616e-01,\n",
       "          9.4193e-02, -1.5092e-01,  2.5271e-01,  7.3748e-01,  1.2099e-01,\n",
       "          7.8998e-01,  3.1729e-02,  8.1404e-01, -2.5195e-01, -1.9262e-01,\n",
       "         -3.7557e-01,  1.6544e-01,  3.5597e-02, -2.4447e-01,  9.1868e-01,\n",
       "          7.6507e-01,  4.1938e-01,  4.2859e-01,  7.1878e-01, -4.1913e-01,\n",
       "          7.5229e-02, -1.6369e-01,  6.1728e-01,  5.0894e-01, -2.3654e-01,\n",
       "          3.8457e-01,  6.0282e-01,  8.1113e-02,  5.2665e-01,  4.1820e-01,\n",
       "          4.3215e-01,  7.4463e-01, -9.5842e-01,  2.8213e-01,  9.2620e-01,\n",
       "         -6.9044e-01,  1.4680e-01,  3.4829e-01, -1.4830e-01,  1.9242e-01,\n",
       "         -2.7161e-01, -3.9782e-01, -2.7079e-01,  2.5092e-01,  4.4851e-01,\n",
       "          5.6869e-01,  3.6454e-02,  5.1962e-01, -1.4739e-01, -4.7981e-01,\n",
       "         -7.8900e-01, -9.5334e-01, -6.7409e-01,  8.4548e-01, -8.4572e-01,\n",
       "         -1.0394e+00, -1.0307e+00, -5.5178e-01, -9.6244e-01, -2.1564e-02,\n",
       "         -3.3879e-02,  8.8119e-01,  8.4626e-01, -1.7122e-01,  5.4901e-01,\n",
       "          9.8797e-01,  4.3721e-01,  1.7978e-01, -4.5118e-01, -1.0608e+00,\n",
       "         -6.7236e-01, -1.0643e+00,  1.7156e-02, -8.3581e-01, -1.0066e+00,\n",
       "         -1.1058e+00, -6.6366e-01, -1.4357e+00, -1.0066e-01, -4.9542e-02,\n",
       "         -1.6869e+00, -6.6317e-01, -4.3206e-01, -6.6007e-01, -1.0992e+00,\n",
       "         -8.2120e-01,  2.0006e-01, -9.7319e-01, -1.1235e+00, -3.7879e-01,\n",
       "          4.4843e-01, -1.0187e-01, -1.4624e-01,  6.1664e-02,  5.9963e-01,\n",
       "         -2.9737e-01, -8.0157e-01, -1.1780e+00, -1.0951e+00, -6.0427e-01,\n",
       "         -1.5938e+00, -1.3642e+00, -1.2264e+00, -1.6662e+00, -1.3767e+00,\n",
       "         -1.7414e+00, -1.3604e+00,  1.0523e-01, -1.3955e-01, -5.4417e-01,\n",
       "          1.6077e-01,  4.8893e-02,  1.0537e-01,  3.0030e-01, -2.8071e-01,\n",
       "         -8.9636e-01, -1.4037e+00,  3.6316e-01,  4.9699e-01, -1.1583e+00,\n",
       "         -3.5142e-01,  7.0462e-01, -3.8812e-01, -1.1169e+00, -5.5512e-01,\n",
       "          7.3960e-01, -3.3969e-01, -1.4529e+00, -8.9658e-02, -1.2088e+00,\n",
       "         -9.3225e-01, -2.0897e+00, -1.1288e+00, -6.8011e-01, -1.6192e-01,\n",
       "          4.7747e-01,  1.4196e+00,  4.0129e-01,  6.0564e-01,  5.4297e-01,\n",
       "          2.1492e-01,  5.7255e-01,  1.9309e-01,  4.3559e-01, -4.3720e-01,\n",
       "         -2.1063e-01, -8.7447e-01, -2.8011e-01, -8.1636e-01, -5.8494e-01,\n",
       "         -4.7441e-01, -2.0228e-01, -2.6919e-01,  1.7922e-01,  1.9270e-01,\n",
       "         -8.5723e-01, -1.0102e+00,  3.3033e-01, -3.3547e-01, -5.5784e-01,\n",
       "          2.9401e-01, -3.0535e-01, -4.0415e-01, -2.8483e-01, -5.5479e-01,\n",
       "         -2.5970e-01, -7.3755e-01, -8.6614e-01, -8.3137e-01, -5.0957e-02,\n",
       "          1.1582e+00,  3.0201e-01, -1.2536e+00, -1.6517e+00, -2.5442e-03,\n",
       "          7.3939e-01, -1.1853e+00, -4.8457e-01,  2.2519e-01,  3.9695e-01,\n",
       "         -1.0595e+00,  6.6947e-01,  4.4348e-02, -2.1746e+00, -1.9921e+00,\n",
       "         -7.0588e-01, -1.2453e-01, -2.9928e-01, -2.4884e-01,  9.7582e-01,\n",
       "         -5.3422e-01,  1.0921e-01,  1.8803e+00,  7.0071e-01,  4.7520e-01,\n",
       "          5.3184e-01, -4.6323e-01,  4.1167e-01,  2.2699e-01,  8.9173e-01,\n",
       "          8.7779e-01,  1.1826e+00, -6.1480e-01,  1.6247e-01, -1.1414e-01,\n",
       "         -7.6870e-01, -1.2393e-01,  1.3831e+00,  1.8769e+00,  4.3723e-01,\n",
       "         -9.3568e-01, -4.0766e-01,  1.9546e-01,  7.4219e-01,  5.4889e-01,\n",
       "          1.0507e+00, -4.1476e-01, -4.7624e-01,  2.0806e-02,  2.2936e-01,\n",
       "          5.9509e-01,  1.8659e-01,  1.6866e-01, -7.4487e-01, -4.2435e-01,\n",
       "          4.6952e-01,  2.9103e-01,  1.4442e+00,  1.1126e+00, -7.4316e-01,\n",
       "         -6.4651e-01,  3.5726e-01,  5.8489e-01, -3.1057e-01, -5.4080e-01,\n",
       "          2.1594e-01,  1.6073e+00,  1.1604e+00, -3.8682e-02,  1.0087e+00,\n",
       "         -9.4033e-01,  6.8511e-01,  1.5192e+00,  2.5123e+00,  1.1171e+00,\n",
       "         -4.1215e-01, -1.2172e+00,  1.4118e-02, -2.3486e-01,  1.7019e+00,\n",
       "          9.2581e-01,  9.1061e-01,  1.6648e-01,  1.0473e+00, -1.8107e-01,\n",
       "          1.0747e-01,  1.8101e-01,  2.2849e-01,  6.1227e-01,  4.5301e-01,\n",
       "         -5.3762e-02, -3.9656e-02,  2.3682e-01, -7.2962e-01, -1.2725e+00,\n",
       "         -3.6216e-01, -5.4755e-01,  9.5411e-01,  1.8005e+00,  9.6852e-01,\n",
       "          3.6987e-01,  1.0095e+00,  5.4308e-01, -1.1091e+00,  1.0931e+00,\n",
       "         -9.6884e-01,  1.0505e-01, -2.1030e-01, -1.3744e-01,  1.2549e+00,\n",
       "         -1.3103e+00,  7.6792e-01,  1.4066e+00,  3.4489e-01,  1.0122e+00,\n",
       "          6.7054e-01,  6.6269e-01,  5.2280e-01,  1.1819e-01,  2.0167e-01,\n",
       "         -1.2252e+00, -9.0734e-01,  3.8222e-01,  3.0742e-01,  1.2352e+00,\n",
       "          1.6655e+00,  2.8700e-01,  3.1122e-02,  1.1902e+00,  5.1976e-01,\n",
       "         -8.9493e-01,  2.6447e-01,  6.5663e-01,  1.6164e+00,  3.1982e-01,\n",
       "         -6.6291e-01, -3.7964e-01, -5.6991e-01,  5.5996e-01,  1.0176e-01,\n",
       "          8.7992e-01,  1.2663e-01, -3.2071e-02, -6.0339e-01,  1.2429e-01,\n",
       "         -2.4977e-01, -5.4522e-01, -8.8689e-01,  6.2842e-02,  1.4648e+00,\n",
       "         -9.1408e-01,  1.3745e+00,  9.9817e-01,  5.9545e-01,  3.8207e-01,\n",
       "          1.0268e+00,  5.3407e-01, -2.0386e+00, -1.5789e+00, -1.6603e-01,\n",
       "         -1.2179e+00, -1.0929e-01,  7.8142e-01, -4.4775e-01, -1.6358e+00,\n",
       "         -5.8283e-01,  3.4193e-01,  4.6517e-01,  1.0522e+00,  5.4619e-01,\n",
       "         -4.5401e-01, -3.6050e-01,  5.0025e-01, -1.4157e-01, -1.1366e+00,\n",
       "         -9.2644e-01,  2.3654e-01,  1.1061e+00,  6.7588e-01, -7.0440e-01,\n",
       "          1.5494e+00,  1.2315e-01,  7.5563e-01, -1.2187e+00,  4.0949e-01,\n",
       "         -3.7297e-01, -8.2346e-01,  9.7419e-01,  4.9538e-01, -1.6839e-01,\n",
       "          4.4188e-01, -4.9535e-02,  6.4738e-01,  4.4967e-01,  1.0034e+00,\n",
       "          7.0618e-01, -4.6480e-01,  1.5947e+00,  8.8799e-01,  1.3141e+00,\n",
       "         -8.3933e-01,  8.3555e-01, -9.6931e-01,  7.0382e-01,  2.3342e-01,\n",
       "         -7.8112e-01,  9.2324e-01,  2.6252e-01, -6.9668e-01,  8.3202e-01,\n",
       "          2.0658e+00,  5.8258e-02, -7.2836e-03, -2.7015e-01,  2.7553e-01,\n",
       "         -2.5965e-01,  1.2441e+00, -3.2639e-01,  7.4242e-01,  1.0140e-01,\n",
       "          1.0203e+00,  6.5705e-01, -5.5468e-01,  7.1864e-01,  6.3499e-01,\n",
       "          6.4919e-01,  1.3505e+00,  5.1003e-01,  2.0490e+00,  8.9651e-01,\n",
       "          7.6941e-01,  8.3974e-01, -4.2267e-02,  4.2920e-01, -1.5447e-01,\n",
       "         -8.9926e-01,  7.1569e-01, -5.0182e-01, -1.2649e+00, -5.0687e-02,\n",
       "          1.9218e-01,  7.5403e-01,  4.1762e-01,  8.6971e-01, -2.9202e-01,\n",
       "          6.6183e-02,  1.4740e+00,  4.2737e-01,  7.3093e-01,  3.1776e-01,\n",
       "         -1.5959e+00,  1.4949e+00, -2.2186e-01,  1.7858e+00,  3.3248e-01,\n",
       "         -6.7650e-01,  5.4567e-01,  2.3861e-01, -8.1247e-01, -1.1883e+00,\n",
       "          1.0837e+00, -4.6140e-02,  7.2181e-01,  1.0314e+00, -1.8012e-01,\n",
       "          7.8649e-01, -5.8576e-02, -1.5714e-01,  3.6619e-01,  2.3588e-01,\n",
       "         -5.7796e-02, -1.0924e+00, -1.0633e-01, -8.7924e-01,  7.5043e-01,\n",
       "          1.7912e-02,  1.2955e+00,  1.5151e-01, -8.7684e-01, -3.3958e-01,\n",
       "          2.7735e-01, -1.1769e-01, -2.2628e-01,  3.8273e-01,  1.1767e+00,\n",
       "         -9.4720e-01,  1.7456e+00,  8.9065e-01,  8.0824e-01,  3.5902e-01,\n",
       "          6.6786e-01,  1.6836e-01, -5.8209e-01,  4.7269e-01,  9.4020e-01,\n",
       "         -1.5519e+00, -2.7229e-01, -1.2094e+00, -1.1790e-02, -5.1821e-01,\n",
       "         -4.2153e-01,  8.9553e-01,  5.6027e-01,  5.7797e-01, -1.2979e+00,\n",
       "          1.0231e+00,  1.5622e+00,  1.2334e-01, -4.6794e-01,  6.5396e-01,\n",
       "          1.6111e+00, -2.1257e-01, -5.9889e-02,  4.0335e-01,  6.1103e-01,\n",
       "         -2.4680e-01, -4.3484e-01,  1.6634e-01,  9.8387e-01,  1.2980e-01,\n",
       "          8.6382e-01,  6.4739e-01, -3.8496e-01, -4.5173e-01, -4.1511e-03,\n",
       "         -2.1676e-01,  7.3973e-01, -7.5343e-01, -3.2947e-01,  4.7284e-01,\n",
       "          1.3876e-01,  3.5446e-01,  1.2666e+00, -2.2489e-01, -4.1765e-01,\n",
       "          1.3233e+00, -5.2601e-01, -1.3198e-01,  1.7136e+00, -7.3406e-01,\n",
       "          1.6414e-01,  2.2085e+00, -9.3221e-01,  1.9556e+00, -1.7480e+00,\n",
       "          5.2884e-01, -3.2298e-01,  5.0638e-01,  9.5175e-01,  1.3418e-01,\n",
       "          8.5063e-01,  1.6042e-02,  2.5190e-01,  4.8662e-01,  5.8768e-01,\n",
       "          2.3252e-01, -1.3247e-01,  9.1502e-01,  8.6187e-01,  1.3585e+00,\n",
       "          3.7269e-01, -4.9483e-01, -5.7418e-02,  6.8661e-01,  8.6130e-01,\n",
       "         -6.5016e-01,  1.2735e+00, -1.8610e-01,  1.6415e+00, -3.1450e-01,\n",
       "         -2.2178e-01,  6.9656e-01,  1.9474e-01,  8.7556e-01,  1.3367e+00,\n",
       "          1.0831e+00,  1.7135e-01,  6.5256e-01, -6.3945e-01,  1.2773e+00,\n",
       "          4.7573e-01,  5.1966e-01,  1.1391e+00,  5.5812e-01,  1.0603e+00,\n",
       "          9.9041e-01,  6.4713e-01,  8.3346e-01,  1.2133e+00, -6.9330e-01,\n",
       "         -6.1733e-01, -1.2230e+00,  1.0134e+00,  6.0237e-01,  1.4736e+00,\n",
       "          1.5997e-01,  7.2497e-01,  1.4056e+00,  2.5626e-01, -4.3062e-03,\n",
       "          4.3206e-01,  8.3520e-01,  2.1095e+00,  1.1470e+00,  3.7588e-01,\n",
       "          2.5395e-01,  1.0623e+00,  9.1561e-01, -1.1376e+00,  3.4391e-01,\n",
       "         -1.0175e+00,  5.6835e-01, -1.1477e+00, -1.2786e+00,  9.5633e-01,\n",
       "          1.1745e+00,  2.3599e-01,  3.2567e-01,  1.1762e+00,  1.4976e-02,\n",
       "         -8.3708e-01,  1.1783e+00, -1.7712e-01,  1.7096e+00, -1.2522e+00,\n",
       "         -4.0012e-01,  3.0082e-01, -1.1844e+00,  1.4833e+00,  1.9974e-02,\n",
       "         -1.5743e+00, -9.7230e-01,  4.8328e-01,  8.1414e-01,  1.1172e+00,\n",
       "         -8.1360e-01,  1.1487e-02,  8.4475e-01,  9.0748e-01, -9.4583e-01,\n",
       "          1.2151e+00,  5.5701e-01, -7.0619e-01, -1.0081e+00,  1.6301e-01,\n",
       "          4.4147e-01,  1.5403e+00,  1.4583e+00,  8.5090e-01, -6.9385e-01,\n",
       "          1.8711e+00,  3.6249e-01,  8.6097e-01,  8.5063e-01,  6.0956e-01,\n",
       "          1.4281e+00,  6.6697e-01, -4.2450e-01,  2.8081e-01,  7.3684e-01,\n",
       "          1.2312e+00,  1.1948e+00,  1.6795e+00, -4.2425e-01, -3.5346e-01,\n",
       "          7.2597e-01, -4.6906e-01,  7.5340e-02,  1.4038e-02,  7.5876e-01,\n",
       "         -1.1817e-01,  1.3709e+00,  3.5763e-01,  1.8100e-02, -5.5424e-01,\n",
       "          5.9104e-01,  1.8017e-01, -3.2314e-01,  1.2516e+00, -2.6929e-01,\n",
       "          9.7949e-01, -1.4287e+00,  1.1582e+00, -1.2949e+00, -2.2881e+00,\n",
       "          3.0168e-01,  1.6514e+00, -1.6400e-01, -5.3869e-01,  1.2806e+00,\n",
       "          9.5677e-01, -5.7437e-01,  1.0315e+00,  1.2234e+00,  2.9686e-01,\n",
       "          4.1242e-01, -5.0070e-01, -5.6049e-03, -9.8202e-01,  3.3502e-01,\n",
       "         -3.6605e-01, -2.0645e-02,  8.1054e-01,  2.5880e-02, -6.5082e-01,\n",
       "         -7.0793e-01,  1.0720e+00,  6.0990e-01,  1.8141e+00,  1.7428e+00,\n",
       "         -1.1654e+00, -4.6064e-01,  1.6783e+00,  8.0941e-01,  8.6402e-01,\n",
       "          2.4785e-01, -8.5979e-01,  9.6907e-01, -1.1774e+00,  1.0550e+00,\n",
       "          1.3995e+00,  9.8127e-01,  7.9011e-01, -2.1092e-01, -1.5214e+00,\n",
       "         -9.1552e-02, -1.4694e-01,  4.1057e-01,  3.2816e-01, -1.8017e-01,\n",
       "         -3.6483e-01,  1.2437e+00, -1.0362e+00,  2.8068e-01, -6.5600e-01,\n",
       "         -8.1968e-01, -1.1263e+00, -1.0422e+00, -3.5546e-01,  1.2895e+00,\n",
       "         -3.1104e-01, -2.0544e-01,  2.9572e-01, -2.1422e+00, -3.5830e-01,\n",
       "         -6.8205e-01,  4.2928e-01,  4.4739e-02,  2.0057e-01,  4.5207e-02,\n",
       "         -5.9813e-01, -7.0882e-01, -5.7626e-02,  2.5650e-01, -5.4764e-01,\n",
       "         -2.5864e-01, -1.2221e+00,  2.9035e-01,  4.5362e-01, -6.9434e-01,\n",
       "         -2.2749e-01, -9.6536e-01, -9.0291e-01, -1.9283e-01,  7.3104e-01,\n",
       "         -6.0976e-01, -2.5343e-01, -6.5000e-01, -6.9340e-02, -1.1166e+00,\n",
       "         -1.0853e-01,  2.1556e-01, -5.6883e-01, -7.7482e-01, -1.2805e+00,\n",
       "         -3.3952e-01, -1.2015e-01, -1.2433e+00,  6.7293e-01, -2.7736e-01,\n",
       "          5.5620e-02,  9.0915e-01, -1.0778e-02, -2.1413e-01, -2.0623e+00,\n",
       "          9.6069e-01, -1.3486e+00,  3.8444e-01,  2.7851e-01, -3.6411e-01,\n",
       "         -1.2504e-01, -6.2754e-02,  6.2085e-01, -9.6188e-02, -9.5692e-01,\n",
       "         -1.5572e+00, -2.6391e+00,  1.3231e+00, -5.1756e-01, -1.0801e+00,\n",
       "         -4.9132e-01, -1.0230e+00, -1.2244e+00, -1.9543e+00, -5.4745e-01,\n",
       "         -3.5971e-01,  2.2516e-01, -7.1620e-01,  1.2488e+00,  1.2754e+00]],\n",
       "       grad_fn=<AddmmBackward0>)"
      ]
     },
     "execution_count": 17,
     "metadata": {},
     "output_type": "execute_result"
    }
   ],
   "source": [
    "prediction"
   ]
  },
  {
   "cell_type": "code",
   "execution_count": 18,
   "id": "ffbbe2da",
   "metadata": {},
   "outputs": [],
   "source": [
    "loss = (prediction - labels).sum()\n",
    "loss.backward() # backward pass"
   ]
  },
  {
   "cell_type": "code",
   "execution_count": 19,
   "id": "25961762",
   "metadata": {},
   "outputs": [],
   "source": [
    "optim = torch.optim.SGD(model.parameters(), lr=1e-2, momentum=0.9)"
   ]
  },
  {
   "cell_type": "code",
   "execution_count": 20,
   "id": "27149a35",
   "metadata": {},
   "outputs": [],
   "source": [
    "optim.step() #gradient descent"
   ]
  },
  {
   "cell_type": "code",
   "execution_count": 21,
   "id": "d89d592b",
   "metadata": {},
   "outputs": [
    {
     "data": {
      "text/plain": [
       "tensor(-495.2230, grad_fn=<SumBackward0>)"
      ]
     },
     "execution_count": 21,
     "metadata": {},
     "output_type": "execute_result"
    }
   ],
   "source": [
    "loss"
   ]
  },
  {
   "cell_type": "markdown",
   "id": "f8361981",
   "metadata": {},
   "source": [
    "### NN"
   ]
  },
  {
   "cell_type": "code",
   "execution_count": 22,
   "id": "10049eb2",
   "metadata": {},
   "outputs": [
    {
     "name": "stdout",
     "output_type": "stream",
     "text": [
      "Net(\n",
      "  (conv1): Conv2d(1, 6, kernel_size=(5, 5), stride=(1, 1))\n",
      "  (conv2): Conv2d(6, 16, kernel_size=(5, 5), stride=(1, 1))\n",
      "  (fc1): Linear(in_features=400, out_features=120, bias=True)\n",
      "  (fc2): Linear(in_features=120, out_features=84, bias=True)\n",
      "  (fc3): Linear(in_features=84, out_features=10, bias=True)\n",
      ")\n"
     ]
    }
   ],
   "source": [
    "import torch\n",
    "import torch.nn as nn\n",
    "import torch.nn.functional as F\n",
    "\n",
    "\n",
    "class Net(nn.Module):\n",
    "\n",
    "    def __init__(self):\n",
    "        super(Net, self).__init__()\n",
    "        # 1 input image channel, 6 output channels, 5x5 square convolution\n",
    "        # kernel\n",
    "        self.conv1 = nn.Conv2d(1, 6, 5)\n",
    "        self.conv2 = nn.Conv2d(6, 16, 5)\n",
    "        # an affine operation: y = Wx + b\n",
    "        self.fc1 = nn.Linear(16 * 5 * 5, 120)  # 5*5 from image dimension\n",
    "        self.fc2 = nn.Linear(120, 84)\n",
    "        self.fc3 = nn.Linear(84, 10)\n",
    "\n",
    "    def forward(self, x):\n",
    "        # Max pooling over a (2, 2) window\n",
    "        x = F.max_pool2d(F.relu(self.conv1(x)), (2, 2))\n",
    "        # If the size is a square, you can specify with a single number\n",
    "        x = F.max_pool2d(F.relu(self.conv2(x)), 2)\n",
    "        x = torch.flatten(x, 1) # flatten all dimensions except the batch dimension\n",
    "        x = F.relu(self.fc1(x))\n",
    "        x = F.relu(self.fc2(x))\n",
    "        x = self.fc3(x)\n",
    "        return x\n",
    "\n",
    "\n",
    "net = Net()\n",
    "print(net)"
   ]
  },
  {
   "cell_type": "code",
   "execution_count": 23,
   "id": "1f7012b2",
   "metadata": {},
   "outputs": [
    {
     "name": "stdout",
     "output_type": "stream",
     "text": [
      "10\n",
      "torch.Size([6, 1, 5, 5])\n"
     ]
    }
   ],
   "source": [
    "params = list(net.parameters())\n",
    "print(len(params))\n",
    "print(params[0].size())  # conv1's .weight"
   ]
  },
  {
   "cell_type": "code",
   "execution_count": 24,
   "id": "25194a22",
   "metadata": {},
   "outputs": [
    {
     "name": "stdout",
     "output_type": "stream",
     "text": [
      "tensor([[ 0.0697,  0.0880, -0.0126, -0.0928, -0.0254,  0.1870,  0.0739,  0.0709,\n",
      "          0.0036, -0.0550]], grad_fn=<AddmmBackward0>)\n"
     ]
    }
   ],
   "source": [
    "input = torch.randn(1, 1, 32, 32)\n",
    "out = net(input)\n",
    "print(out)"
   ]
  },
  {
   "cell_type": "code",
   "execution_count": 25,
   "id": "f3836bc2",
   "metadata": {},
   "outputs": [],
   "source": [
    "net.zero_grad()\n",
    "out.backward(torch.randn(1, 10))"
   ]
  },
  {
   "cell_type": "code",
   "execution_count": 26,
   "id": "9943eb74",
   "metadata": {},
   "outputs": [
    {
     "data": {
      "text/plain": [
       "tensor([[ 0.0697,  0.0880, -0.0126, -0.0928, -0.0254,  0.1870,  0.0739,  0.0709,\n",
       "          0.0036, -0.0550]], grad_fn=<AddmmBackward0>)"
      ]
     },
     "execution_count": 26,
     "metadata": {},
     "output_type": "execute_result"
    }
   ],
   "source": [
    "out"
   ]
  },
  {
   "cell_type": "markdown",
   "id": "5ad1be5c-3d11-4aa2-b064-953a38119e73",
   "metadata": {},
   "source": [
    "## KDTree Scipy"
   ]
  },
  {
   "cell_type": "code",
   "execution_count": 1,
   "id": "7cf20d15",
   "metadata": {},
   "outputs": [],
   "source": [
    "import numpy as np\n",
    "from scipy.spatial import KDTree\n",
    "x, y = np.mgrid[0:5, 2:8]\n",
    "tree = KDTree(np.c_[x.ravel(), y.ravel()])"
   ]
  },
  {
   "cell_type": "code",
   "execution_count": 2,
   "id": "638b6eff-d791-481d-bf84-007b51ec8cfc",
   "metadata": {},
   "outputs": [
    {
     "data": {
      "text/plain": [
       "array([[0, 0, 0, 0, 0, 0],\n",
       "       [1, 1, 1, 1, 1, 1],\n",
       "       [2, 2, 2, 2, 2, 2],\n",
       "       [3, 3, 3, 3, 3, 3],\n",
       "       [4, 4, 4, 4, 4, 4]])"
      ]
     },
     "execution_count": 2,
     "metadata": {},
     "output_type": "execute_result"
    }
   ],
   "source": [
    "x"
   ]
  },
  {
   "cell_type": "code",
   "execution_count": 3,
   "id": "067df87d-2a1a-4b9e-ac66-fd8760895d6b",
   "metadata": {},
   "outputs": [
    {
     "data": {
      "text/plain": [
       "array([[0, 2],\n",
       "       [0, 3],\n",
       "       [0, 4],\n",
       "       [0, 5],\n",
       "       [0, 6],\n",
       "       [0, 7],\n",
       "       [1, 2],\n",
       "       [1, 3],\n",
       "       [1, 4],\n",
       "       [1, 5],\n",
       "       [1, 6],\n",
       "       [1, 7],\n",
       "       [2, 2],\n",
       "       [2, 3],\n",
       "       [2, 4],\n",
       "       [2, 5],\n",
       "       [2, 6],\n",
       "       [2, 7],\n",
       "       [3, 2],\n",
       "       [3, 3],\n",
       "       [3, 4],\n",
       "       [3, 5],\n",
       "       [3, 6],\n",
       "       [3, 7],\n",
       "       [4, 2],\n",
       "       [4, 3],\n",
       "       [4, 4],\n",
       "       [4, 5],\n",
       "       [4, 6],\n",
       "       [4, 7]])"
      ]
     },
     "execution_count": 3,
     "metadata": {},
     "output_type": "execute_result"
    }
   ],
   "source": [
    "np.c_[x.ravel(), y.ravel()]"
   ]
  },
  {
   "cell_type": "code",
   "execution_count": 4,
   "id": "3452fe89-c22f-4f8e-89b9-53d4ff4d4c08",
   "metadata": {},
   "outputs": [
    {
     "name": "stdout",
     "output_type": "stream",
     "text": [
      "[2.        0.2236068]\n",
      "[ 0 13]\n"
     ]
    }
   ],
   "source": [
    "dd, ii = tree.query([[0, 0], [2.2, 2.9]], k=1)\n",
    "print(dd, ii, sep='\\n')"
   ]
  }
 ],
 "metadata": {
  "kernelspec": {
   "display_name": "Python 3 (ipykernel)",
   "language": "python",
   "name": "python3"
  },
  "language_info": {
   "codemirror_mode": {
    "name": "ipython",
    "version": 3
   },
   "file_extension": ".py",
   "mimetype": "text/x-python",
   "name": "python",
   "nbconvert_exporter": "python",
   "pygments_lexer": "ipython3",
   "version": "3.9.7"
  }
 },
 "nbformat": 4,
 "nbformat_minor": 5
}

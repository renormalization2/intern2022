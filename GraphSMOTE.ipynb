{
 "cells": [
  {
   "cell_type": "markdown",
   "id": "33b20cf6-7df9-4a9b-b511-094bce6416dc",
   "metadata": {},
   "source": [
    "# Init"
   ]
  },
  {
   "cell_type": "code",
   "execution_count": 1,
   "id": "6fe6103e-10fb-47dc-9fed-680e9356ae1a",
   "metadata": {
    "execution": {
     "iopub.execute_input": "2023-09-25T13:52:16.780476Z",
     "iopub.status.busy": "2023-09-25T13:52:16.779818Z",
     "iopub.status.idle": "2023-09-25T13:52:48.435078Z",
     "shell.execute_reply": "2023-09-25T13:52:48.434153Z",
     "shell.execute_reply.started": "2023-09-25T13:52:16.780420Z"
    }
   },
   "outputs": [
    {
     "name": "stdout",
     "output_type": "stream",
     "text": [
      "This notebook was generated at 2023-09-25 22:52:16 (GMT+0900) \n"
     ]
    },
    {
     "name": "stderr",
     "output_type": "stream",
     "text": [
      "/home/dhhyun/anaconda3/envs/yttest2/lib/python3.9/_collections_abc.py:769: MatplotlibDeprecationWarning: The global colormaps dictionary is no longer considered public API.\n",
      "  self[key]\n"
     ]
    },
    {
     "name": "stdout",
     "output_type": "stream",
     "text": [
      "0 Python     3.9.7 64bit [GCC 7.5.0]\n",
      "1 IPython    8.8.0\n",
      "2 OS         Linux 3.10.0 862.3.3.el7.x86_64 x86_64 with glibc2.17\n",
      "3 numpy      1.23.5\n",
      "4 scipy      1.10.0\n",
      "5 matplotlib 3.3.4\n",
      "6 yt         3.6.1\n",
      "7 pandas     1.4.4\n",
      "8 torch      1.12.1\n",
      "9 pyg        The 'pyg' distribution was not found and is required by the application\n",
      "10 h5py       3.8.0\n",
      "11 seaborn    0.12.2\n",
      "12 sklearn    1.0.2\n",
      "13 umap       0.5.3\n",
      "14 astropy    The 'astropy' distribution was not found and is required by the application\n",
      "15 astroquery The 'astroquery' distribution was not found and is required by the application\n",
      "16 version_information 1.0.4\n"
     ]
    }
   ],
   "source": [
    "# conda env: yttest2\n",
    "\n",
    "# %config InlineBackend.figure_format = 'retina'\n",
    "%load_ext version_information\n",
    "import time\n",
    "now = time.strftime(\"%Y-%m-%d %H:%M:%S (GMT%z)\")\n",
    "print(f\"This notebook was generated at {now} \")\n",
    "\n",
    "vv = %version_information numpy, scipy, matplotlib, yt, pandas, torch, pyg, h5py, seaborn, sklearn, umap, astropy, astroquery, version_information\n",
    "for i, pkg in enumerate(vv.packages):\n",
    "    print(f\"{i} {pkg[0]:10s} {pkg[1]:s}\")"
   ]
  },
  {
   "cell_type": "markdown",
   "id": "56bfb7c6-6446-44fb-841d-32235a8be1e2",
   "metadata": {},
   "source": [
    "making a dataset?"
   ]
  },
  {
   "cell_type": "code",
   "execution_count": 2,
   "id": "0c4ce96a-3727-4df8-abe7-93b6cafed9f6",
   "metadata": {
    "execution": {
     "iopub.execute_input": "2023-10-06T05:30:42.083563Z",
     "iopub.status.busy": "2023-10-06T05:30:42.082746Z",
     "iopub.status.idle": "2023-10-06T05:30:42.374251Z",
     "shell.execute_reply": "2023-10-06T05:30:42.372659Z",
     "shell.execute_reply.started": "2023-10-06T05:30:42.083488Z"
    }
   },
   "outputs": [],
   "source": [
    "import os\n",
    "from time import time\n",
    "from tqdm import tqdm\n",
    "import numpy as np\n",
    "import pandas as pd\n",
    "import matplotlib.pyplot as plt\n",
    "import torch\n",
    "from torch_geometric.data import Data\n",
    "from torch_geometric.loader import DataLoader\n",
    "import torch.nn.functional as F\n",
    "import torch_geometric.transforms as T\n",
    "from torch_geometric.nn import GCNConv\n",
    "from torch_geometric.nn import SAGEConv\n",
    "from sklearn.preprocessing import MinMaxScaler\n",
    "from sklearn.metrics import roc_curve, RocCurveDisplay, roc_auc_score\n",
    "import random"
   ]
  },
  {
   "cell_type": "code",
   "execution_count": 3,
   "id": "9710881e-1174-4fa6-b124-c16e0d8e55d8",
   "metadata": {
    "execution": {
     "iopub.execute_input": "2023-10-06T05:30:48.041175Z",
     "iopub.status.busy": "2023-10-06T05:30:48.040308Z",
     "iopub.status.idle": "2023-10-06T05:30:48.047004Z",
     "shell.execute_reply": "2023-10-06T05:30:48.045644Z",
     "shell.execute_reply.started": "2023-10-06T05:30:48.041118Z"
    }
   },
   "outputs": [],
   "source": [
    "workdir = '/data1/dhhyun/GraphSMOTE/GraphSmote'"
   ]
  },
  {
   "cell_type": "code",
   "execution_count": 4,
   "id": "26aa10b1-2442-444d-b1f0-c7cd5556bd3b",
   "metadata": {
    "execution": {
     "iopub.execute_input": "2023-10-06T05:30:56.820420Z",
     "iopub.status.busy": "2023-10-06T05:30:56.819621Z",
     "iopub.status.idle": "2023-10-06T05:30:56.831591Z",
     "shell.execute_reply": "2023-10-06T05:30:56.830968Z",
     "shell.execute_reply.started": "2023-10-06T05:30:56.820367Z"
    }
   },
   "outputs": [
    {
     "data": {
      "text/plain": [
       "'/home/dhhyun'"
      ]
     },
     "execution_count": 4,
     "metadata": {},
     "output_type": "execute_result"
    }
   ],
   "source": [
    "pwd"
   ]
  },
  {
   "cell_type": "code",
   "execution_count": 5,
   "id": "5e5bc05d-5661-448b-86b1-9cd5600cb0d0",
   "metadata": {
    "execution": {
     "iopub.execute_input": "2023-10-06T05:31:02.737762Z",
     "iopub.status.busy": "2023-10-06T05:31:02.736993Z",
     "iopub.status.idle": "2023-10-06T05:31:02.750063Z",
     "shell.execute_reply": "2023-10-06T05:31:02.749340Z",
     "shell.execute_reply.started": "2023-10-06T05:31:02.737698Z"
    }
   },
   "outputs": [
    {
     "name": "stdout",
     "output_type": "stream",
     "text": [
      "[Errno 2] No such file or directory: 'workdir'\n",
      "/home/dhhyun\n"
     ]
    }
   ],
   "source": [
    "cd workdir"
   ]
  },
  {
   "cell_type": "code",
   "execution_count": 7,
   "id": "f14571e2-fd4d-4ac1-8ae3-b1995b66d4c2",
   "metadata": {
    "execution": {
     "iopub.execute_input": "2023-10-06T05:39:24.510943Z",
     "iopub.status.busy": "2023-10-06T05:39:24.510125Z",
     "iopub.status.idle": "2023-10-06T05:39:24.521216Z",
     "shell.execute_reply": "2023-10-06T05:39:24.520012Z",
     "shell.execute_reply.started": "2023-10-06T05:39:24.510889Z"
    },
    "tags": []
   },
   "outputs": [
    {
     "name": "stdout",
     "output_type": "stream",
     "text": [
      "/data1/dhhyun/GraphSMOTE/GraphSmote\n"
     ]
    }
   ],
   "source": [
    "cd '/data1/dhhyun/GraphSMOTE/GraphSmote'"
   ]
  },
  {
   "cell_type": "code",
   "execution_count": 8,
   "id": "c9fa44fa-fd20-48e9-a24b-f544b5fe8925",
   "metadata": {
    "execution": {
     "iopub.execute_input": "2023-10-06T05:39:27.288121Z",
     "iopub.status.busy": "2023-10-06T05:39:27.287386Z",
     "iopub.status.idle": "2023-10-06T05:39:27.295626Z",
     "shell.execute_reply": "2023-10-06T05:39:27.294580Z",
     "shell.execute_reply.started": "2023-10-06T05:39:27.288069Z"
    },
    "tags": []
   },
   "outputs": [
    {
     "data": {
      "text/plain": [
       "'/data1/dhhyun/GraphSMOTE/GraphSmote'"
      ]
     },
     "execution_count": 8,
     "metadata": {},
     "output_type": "execute_result"
    }
   ],
   "source": [
    "pwd"
   ]
  },
  {
   "cell_type": "code",
   "execution_count": 18,
   "id": "d82ce459-e956-4adb-92de-f9b2c577f0a0",
   "metadata": {
    "execution": {
     "iopub.execute_input": "2023-10-08T16:53:48.826209Z",
     "iopub.status.busy": "2023-10-08T16:53:48.825554Z",
     "iopub.status.idle": "2023-10-08T16:53:48.832621Z",
     "shell.execute_reply": "2023-10-08T16:53:48.831426Z",
     "shell.execute_reply.started": "2023-10-08T16:53:48.826152Z"
    },
    "tags": []
   },
   "outputs": [],
   "source": [
    "import sys\n",
    "sys.path.append('/data1/dhhyun/GraphSMOTE/GraphSmote')\n",
    "from data_load import * # normalize"
   ]
  },
  {
   "cell_type": "code",
   "execution_count": 89,
   "id": "22f53fa1-dcf6-474c-8082-570503002b90",
   "metadata": {
    "execution": {
     "iopub.execute_input": "2023-10-10T01:44:32.482795Z",
     "iopub.status.busy": "2023-10-10T01:44:32.481909Z",
     "iopub.status.idle": "2023-10-10T01:44:32.493865Z",
     "shell.execute_reply": "2023-10-10T01:44:32.492867Z",
     "shell.execute_reply.started": "2023-10-10T01:44:32.482740Z"
    },
    "tags": []
   },
   "outputs": [],
   "source": [
    "import argparse\n",
    "import scipy.sparse as sp\n",
    "import numpy as np\n",
    "import torch\n",
    "import ipdb\n",
    "from scipy.io import loadmat\n",
    "import utils\n",
    "from collections import defaultdict\n",
    "\n",
    "\n",
    "def load_data(path=\"data/cora/\", dataset=\"cora\"):#modified from code: pygcn\n",
    "    \"\"\"Load citation network dataset (cora only for now)\"\"\"\n",
    "    #input: idx_features_labels, adj\n",
    "    #idx,labels are not required to be processed in advance\n",
    "    #adj: save in the form of edges. idx1 idx2\n",
    "    #output: adj, features, labels are all torch.tensor, in the dense form\n",
    "    #-------------------------------------------------------\n",
    "\n",
    "    print('Loading {} dataset...'.format(dataset))\n",
    "\n",
    "    idx_features_labels = np.genfromtxt(\"{}{}.content\".format(path, dataset),\n",
    "                                        dtype=np.dtype(str))\n",
    "    features = sp.csr_matrix(idx_features_labels[:, 1:-1], dtype=np.float32)\n",
    "    labels = idx_features_labels[:, -1]\n",
    "    set_labels = set(labels)\n",
    "    classes_dict = {c: np.arange(len(set_labels))[i] for i, c in enumerate(set_labels)}\n",
    "    classes_dict = {'Neural_Networks': 0, 'Reinforcement_Learning': 1, 'Probabilistic_Methods': 2, 'Case_Based': 3, 'Theory': 4, 'Rule_Learning': 5, 'Genetic_Algorithms': 6}\n",
    "\n",
    "    #ipdb.set_trace()\n",
    "    labels = np.array(list(map(classes_dict.get, labels)))\n",
    "    \n",
    "    # build graph\n",
    "    idx = np.array(idx_features_labels[:, 0], dtype=np.int32)\n",
    "    idx_map = {j: i for i, j in enumerate(idx)}\n",
    "    edges_unordered = np.genfromtxt(\"{}{}.cites\".format(path, dataset),\n",
    "                                    dtype=np.int32)\n",
    "    edges = np.array(list(map(idx_map.get, edges_unordered.flatten())),\n",
    "                     dtype=np.int32).reshape(edges_unordered.shape)\n",
    "    adj = sp.coo_matrix((np.ones(edges.shape[0]), (edges[:, 0], edges[:, 1])),\n",
    "                        shape=(labels.shape[0], labels.shape[0]),\n",
    "                        dtype=np.float32)\n",
    "\n",
    "    # build symmetric adjacency matrix\n",
    "    adj = adj + adj.T.multiply(adj.T > adj) - adj.multiply(adj.T > adj)\n",
    "\n",
    "    features = normalize(features)\n",
    "\n",
    "    features = torch.FloatTensor(np.array(features.todense()))\n",
    "    labels = torch.LongTensor(labels)\n",
    "\n",
    "    utils.print_edges_num(adj.todense(), labels)\n",
    "\n",
    "    adj = sparse_mx_to_torch_sparse_tensor(adj)\n",
    "    #adj = torch.FloatTensor(np.array(adj.todense()))\n",
    "\n",
    "    return adj, features, labels"
   ]
  },
  {
   "cell_type": "code",
   "execution_count": 90,
   "id": "936398d4-ce9c-4ed3-84cd-6567eddc46db",
   "metadata": {
    "execution": {
     "iopub.execute_input": "2023-10-10T01:44:32.799902Z",
     "iopub.status.busy": "2023-10-10T01:44:32.799182Z",
     "iopub.status.idle": "2023-10-10T01:44:37.204114Z",
     "shell.execute_reply": "2023-10-10T01:44:37.202942Z",
     "shell.execute_reply.started": "2023-10-10T01:44:32.799852Z"
    },
    "scrolled": true,
    "tags": []
   },
   "outputs": [
    {
     "name": "stdout",
     "output_type": "stream",
     "text": [
      "Loading cora dataset...\n",
      "edges between class 0 and class 0: 2350.000000\n",
      "edges between class 0 and class 1: 67.000000\n",
      "edges between class 0 and class 2: 137.000000\n",
      "edges between class 0 and class 3: 54.000000\n",
      "edges between class 0 and class 4: 161.000000\n",
      "edges between class 0 and class 5: 16.000000\n",
      "edges between class 0 and class 6: 53.000000\n",
      "edges between class 1 and class 0: 67.000000\n",
      "edges between class 1 and class 1: 818.000000\n",
      "edges between class 1 and class 2: 20.000000\n",
      "edges between class 1 and class 3: 28.000000\n",
      "edges between class 1 and class 4: 32.000000\n",
      "edges between class 1 and class 5: 2.000000\n",
      "edges between class 1 and class 6: 62.000000\n",
      "edges between class 2 and class 0: 137.000000\n",
      "edges between class 2 and class 1: 20.000000\n",
      "edges between class 2 and class 2: 1320.000000\n",
      "edges between class 2 and class 3: 19.000000\n",
      "edges between class 2 and class 4: 88.000000\n",
      "edges between class 2 and class 5: 6.000000\n",
      "edges between class 2 and class 6: 2.000000\n",
      "edges between class 3 and class 0: 54.000000\n",
      "edges between class 3 and class 1: 28.000000\n",
      "edges between class 3 and class 2: 19.000000\n",
      "edges between class 3 and class 3: 834.000000\n",
      "edges between class 3 and class 4: 75.000000\n",
      "edges between class 3 and class 5: 46.000000\n",
      "edges between class 3 and class 6: 30.000000\n",
      "edges between class 4 and class 0: 161.000000\n",
      "edges between class 4 and class 1: 32.000000\n",
      "edges between class 4 and class 2: 88.000000\n",
      "edges between class 4 and class 3: 75.000000\n",
      "edges between class 4 and class 4: 1068.000000\n",
      "edges between class 4 and class 5: 80.000000\n",
      "edges between class 4 and class 6: 23.000000\n",
      "edges between class 5 and class 0: 16.000000\n",
      "edges between class 5 and class 1: 2.000000\n",
      "edges between class 5 and class 2: 6.000000\n",
      "edges between class 5 and class 3: 46.000000\n",
      "edges between class 5 and class 4: 80.000000\n",
      "edges between class 5 and class 5: 506.000000\n",
      "edges between class 5 and class 6: 2.000000\n",
      "edges between class 6 and class 0: 53.000000\n",
      "edges between class 6 and class 1: 62.000000\n",
      "edges between class 6 and class 2: 2.000000\n",
      "edges between class 6 and class 3: 30.000000\n",
      "edges between class 6 and class 4: 23.000000\n",
      "edges between class 6 and class 5: 2.000000\n",
      "edges between class 6 and class 6: 1654.000000\n"
     ]
    }
   ],
   "source": [
    "adj, features, labels = load_data()"
   ]
  },
  {
   "cell_type": "code",
   "execution_count": 64,
   "id": "79c5b09a-ada5-4ee0-a070-5fa7b068295c",
   "metadata": {
    "execution": {
     "iopub.execute_input": "2023-10-10T01:10:30.011956Z",
     "iopub.status.busy": "2023-10-10T01:10:30.011684Z",
     "iopub.status.idle": "2023-10-10T01:10:30.018160Z",
     "shell.execute_reply": "2023-10-10T01:10:30.017422Z",
     "shell.execute_reply.started": "2023-10-10T01:10:30.011933Z"
    },
    "tags": []
   },
   "outputs": [
    {
     "data": {
      "text/plain": [
       "(<2708x2708 sparse matrix of type '<class 'numpy.float32'>'\n",
       " \twith 5429 stored elements in COOrdinate format>,\n",
       " <2708x1433 sparse matrix of type '<class 'numpy.float32'>'\n",
       " \twith 3880564 stored elements in Compressed Sparse Row format>,\n",
       " array([0, 5, 1, ..., 6, 3, 0]))"
      ]
     },
     "execution_count": 64,
     "metadata": {},
     "output_type": "execute_result"
    }
   ],
   "source": [
    "adj, features, labels"
   ]
  },
  {
   "cell_type": "code",
   "execution_count": 65,
   "id": "ace2fb49-3a1b-47c6-a5c2-eb7ccbd62649",
   "metadata": {
    "execution": {
     "iopub.execute_input": "2023-10-10T01:11:06.561755Z",
     "iopub.status.busy": "2023-10-10T01:11:06.561017Z",
     "iopub.status.idle": "2023-10-10T01:11:06.570983Z",
     "shell.execute_reply": "2023-10-10T01:11:06.570109Z",
     "shell.execute_reply.started": "2023-10-10T01:11:06.561692Z"
    },
    "tags": []
   },
   "outputs": [
    {
     "data": {
      "text/plain": [
       "((2708, 2708), (2708, 1433), (2708,))"
      ]
     },
     "execution_count": 65,
     "metadata": {},
     "output_type": "execute_result"
    }
   ],
   "source": [
    "adj.shape, features.shape, labels.shape"
   ]
  },
  {
   "cell_type": "code",
   "execution_count": 66,
   "id": "b64eba3d-1ac5-4f74-b435-2872776e868d",
   "metadata": {
    "execution": {
     "iopub.execute_input": "2023-10-10T01:11:38.522822Z",
     "iopub.status.busy": "2023-10-10T01:11:38.522000Z",
     "iopub.status.idle": "2023-10-10T01:11:38.950888Z",
     "shell.execute_reply": "2023-10-10T01:11:38.950125Z",
     "shell.execute_reply.started": "2023-10-10T01:11:38.522768Z"
    },
    "tags": []
   },
   "outputs": [
    {
     "data": {
      "text/plain": [
       "(array([818., 217.,   0., 426.,   0., 298., 351.,   0., 180., 418.]),\n",
       " array([0. , 0.6, 1.2, 1.8, 2.4, 3. , 3.6, 4.2, 4.8, 5.4, 6. ]),\n",
       " <BarContainer object of 10 artists>)"
      ]
     },
     "execution_count": 66,
     "metadata": {},
     "output_type": "execute_result"
    },
    {
     "data": {
      "image/png": "[encoded data removed]",
      "text/plain": [
       "<Figure size 640x480 with 1 Axes>"
      ]
     },
     "metadata": {},
     "output_type": "display_data"
    }
   ],
   "source": [
    "plt.hist(labels)"
   ]
  },
  {
   "cell_type": "code",
   "execution_count": 21,
   "id": "00fcc513-1288-4415-b9a6-2224df28409c",
   "metadata": {
    "execution": {
     "iopub.execute_input": "2023-10-08T16:54:05.833426Z",
     "iopub.status.busy": "2023-10-08T16:54:05.832505Z",
     "iopub.status.idle": "2023-10-08T16:54:06.301950Z",
     "shell.execute_reply": "2023-10-08T16:54:06.300481Z",
     "shell.execute_reply.started": "2023-10-08T16:54:05.833373Z"
    },
    "tags": []
   },
   "outputs": [
    {
     "data": {
      "text/plain": [
       "tensor(indices=tensor([[   0,    0,    0,  ..., 2707, 2707, 2707],\n",
       "                       [   8,   14,  258,  ...,  774, 1389, 2344]]),\n",
       "       values=tensor([1., 1., 1.,  ..., 1., 1., 1.]),\n",
       "       size=(2708, 2708), nnz=10556, layout=torch.sparse_coo)"
      ]
     },
     "execution_count": 21,
     "metadata": {},
     "output_type": "execute_result"
    }
   ],
   "source": [
    "adj"
   ]
  },
  {
   "cell_type": "code",
   "execution_count": 38,
   "id": "dd139b56-c2ea-46d5-80a6-43dd93221c57",
   "metadata": {
    "execution": {
     "iopub.execute_input": "2023-10-08T17:00:15.885431Z",
     "iopub.status.busy": "2023-10-08T17:00:15.884627Z",
     "iopub.status.idle": "2023-10-08T17:00:15.895987Z",
     "shell.execute_reply": "2023-10-08T17:00:15.895025Z",
     "shell.execute_reply.started": "2023-10-08T17:00:15.885379Z"
    },
    "tags": []
   },
   "outputs": [
    {
     "data": {
      "text/plain": [
       "tensor([[   0,    0,    0,  ..., 2707, 2707, 2707],\n",
       "        [   8,   14,  258,  ...,  774, 1389, 2344]])"
      ]
     },
     "execution_count": 38,
     "metadata": {},
     "output_type": "execute_result"
    }
   ],
   "source": [
    "indices = adj.coalesce().indices()\n",
    "indices"
   ]
  },
  {
   "cell_type": "code",
   "execution_count": 39,
   "id": "12860384-c08b-41f6-a373-feb580c6de0c",
   "metadata": {
    "execution": {
     "iopub.execute_input": "2023-10-08T17:00:24.412854Z",
     "iopub.status.busy": "2023-10-08T17:00:24.412169Z",
     "iopub.status.idle": "2023-10-08T17:00:24.421282Z",
     "shell.execute_reply": "2023-10-08T17:00:24.420031Z",
     "shell.execute_reply.started": "2023-10-08T17:00:24.412812Z"
    },
    "tags": []
   },
   "outputs": [
    {
     "data": {
      "text/plain": [
       "torch.Size([2, 10556])"
      ]
     },
     "execution_count": 39,
     "metadata": {},
     "output_type": "execute_result"
    }
   ],
   "source": [
    "indices.shape"
   ]
  },
  {
   "cell_type": "code",
   "execution_count": 35,
   "id": "674e1f43-c716-466c-8f43-e710ccccbfb3",
   "metadata": {
    "execution": {
     "iopub.execute_input": "2023-10-08T16:57:15.606653Z",
     "iopub.status.busy": "2023-10-08T16:57:15.605878Z",
     "iopub.status.idle": "2023-10-08T16:57:15.614901Z",
     "shell.execute_reply": "2023-10-08T16:57:15.613875Z",
     "shell.execute_reply.started": "2023-10-08T16:57:15.606600Z"
    },
    "tags": []
   },
   "outputs": [
    {
     "data": {
      "text/plain": [
       "tensor([1., 1., 1.,  ..., 1., 1., 1.])"
      ]
     },
     "execution_count": 35,
     "metadata": {},
     "output_type": "execute_result"
    }
   ],
   "source": [
    "adj.coalesce().values()"
   ]
  },
  {
   "cell_type": "code",
   "execution_count": 37,
   "id": "263126b7-c249-497a-8ee6-b18060e27b2f",
   "metadata": {
    "execution": {
     "iopub.execute_input": "2023-10-08T16:57:27.234629Z",
     "iopub.status.busy": "2023-10-08T16:57:27.233857Z",
     "iopub.status.idle": "2023-10-08T16:57:27.241561Z",
     "shell.execute_reply": "2023-10-08T16:57:27.240596Z",
     "shell.execute_reply.started": "2023-10-08T16:57:27.234577Z"
    },
    "tags": []
   },
   "outputs": [
    {
     "data": {
      "text/plain": [
       "torch.Size([2708, 2708])"
      ]
     },
     "execution_count": 37,
     "metadata": {},
     "output_type": "execute_result"
    }
   ],
   "source": [
    "adj.coalesce().size()"
   ]
  },
  {
   "cell_type": "code",
   "execution_count": 91,
   "id": "ba7f860a-da0b-46d0-a0fa-b4ae9fee5e24",
   "metadata": {
    "execution": {
     "iopub.execute_input": "2023-10-10T01:44:41.238855Z",
     "iopub.status.busy": "2023-10-10T01:44:41.238061Z",
     "iopub.status.idle": "2023-10-10T01:44:41.272496Z",
     "shell.execute_reply": "2023-10-10T01:44:41.271856Z",
     "shell.execute_reply.started": "2023-10-10T01:44:41.238810Z"
    },
    "tags": []
   },
   "outputs": [
    {
     "data": {
      "text/plain": [
       "tensor([[0., 0., 0.,  ..., 0., 0., 0.],\n",
       "        [0., 0., 0.,  ..., 0., 0., 0.],\n",
       "        [0., 0., 0.,  ..., 0., 0., 0.],\n",
       "        ...,\n",
       "        [0., 0., 0.,  ..., 0., 0., 0.],\n",
       "        [0., 0., 0.,  ..., 0., 0., 0.],\n",
       "        [0., 0., 0.,  ..., 0., 0., 0.]])"
      ]
     },
     "execution_count": 91,
     "metadata": {},
     "output_type": "execute_result"
    }
   ],
   "source": [
    "features"
   ]
  },
  {
   "cell_type": "code",
   "execution_count": 41,
   "id": "5a445277-9634-43a0-b40f-a3d135be298d",
   "metadata": {
    "execution": {
     "iopub.execute_input": "2023-10-08T17:00:49.839908Z",
     "iopub.status.busy": "2023-10-08T17:00:49.839098Z",
     "iopub.status.idle": "2023-10-08T17:00:49.848525Z",
     "shell.execute_reply": "2023-10-08T17:00:49.847223Z",
     "shell.execute_reply.started": "2023-10-08T17:00:49.839855Z"
    },
    "tags": []
   },
   "outputs": [
    {
     "data": {
      "text/plain": [
       "torch.Size([2708, 1433])"
      ]
     },
     "execution_count": 41,
     "metadata": {},
     "output_type": "execute_result"
    }
   ],
   "source": [
    "features.shape"
   ]
  },
  {
   "cell_type": "code",
   "execution_count": 45,
   "id": "5df249f7-8c0c-4e2b-9733-70df5c6a8497",
   "metadata": {
    "execution": {
     "iopub.execute_input": "2023-10-08T17:01:55.434429Z",
     "iopub.status.busy": "2023-10-08T17:01:55.433625Z",
     "iopub.status.idle": "2023-10-08T17:01:55.446926Z",
     "shell.execute_reply": "2023-10-08T17:01:55.441962Z",
     "shell.execute_reply.started": "2023-10-08T17:01:55.434375Z"
    },
    "tags": []
   },
   "outputs": [
    {
     "data": {
      "text/plain": [
       "array([0., 0., 0., ..., 0., 0., 0.], dtype=float32)"
      ]
     },
     "execution_count": 45,
     "metadata": {},
     "output_type": "execute_result"
    }
   ],
   "source": [
    "features[0,:].numpy()"
   ]
  },
  {
   "cell_type": "code",
   "execution_count": 93,
   "id": "6baa4dbe-13a7-40ce-9445-5185ecc5bf1e",
   "metadata": {
    "execution": {
     "iopub.execute_input": "2023-10-10T01:45:10.456154Z",
     "iopub.status.busy": "2023-10-10T01:45:10.455531Z",
     "iopub.status.idle": "2023-10-10T01:45:10.579132Z",
     "shell.execute_reply": "2023-10-10T01:45:10.578162Z",
     "shell.execute_reply.started": "2023-10-10T01:45:10.456104Z"
    },
    "tags": []
   },
   "outputs": [
    {
     "data": {
      "text/plain": [
       "(array([1413.,    0.,    0.,    0.,    0.,    0.,    0.,    0.,    0.,\n",
       "          20.]),\n",
       " array([0.   , 0.005, 0.01 , 0.015, 0.02 , 0.025, 0.03 , 0.035, 0.04 ,\n",
       "        0.045, 0.05 ], dtype=float32),\n",
       " <BarContainer object of 10 artists>)"
      ]
     },
     "execution_count": 93,
     "metadata": {},
     "output_type": "execute_result"
    },
    {
     "data": {
      "image/png": "[encoded data removed]",
      "text/plain": [
       "<Figure size 640x480 with 1 Axes>"
      ]
     },
     "metadata": {},
     "output_type": "display_data"
    }
   ],
   "source": [
    "plt.hist(features[0,:].numpy())"
   ]
  },
  {
   "cell_type": "code",
   "execution_count": 48,
   "id": "69ae5a8a-ba22-4d5e-b6a8-283fbcdb0bde",
   "metadata": {
    "execution": {
     "iopub.execute_input": "2023-10-09T02:44:35.734986Z",
     "iopub.status.busy": "2023-10-09T02:44:35.734198Z",
     "iopub.status.idle": "2023-10-09T02:44:35.743708Z",
     "shell.execute_reply": "2023-10-09T02:44:35.742721Z",
     "shell.execute_reply.started": "2023-10-09T02:44:35.734935Z"
    },
    "tags": []
   },
   "outputs": [
    {
     "data": {
      "text/plain": [
       "'/data1/dhhyun/GraphSMOTE/GraphSmote'"
      ]
     },
     "execution_count": 48,
     "metadata": {},
     "output_type": "execute_result"
    }
   ],
   "source": [
    "pwd"
   ]
  },
  {
   "cell_type": "code",
   "execution_count": 49,
   "id": "586a9143-0b66-4601-a673-5ddf49e15ca6",
   "metadata": {
    "execution": {
     "iopub.execute_input": "2023-10-09T02:44:46.446846Z",
     "iopub.status.busy": "2023-10-09T02:44:46.446047Z",
     "iopub.status.idle": "2023-10-09T02:44:49.304874Z",
     "shell.execute_reply": "2023-10-09T02:44:49.303726Z",
     "shell.execute_reply.started": "2023-10-09T02:44:46.446794Z"
    },
    "tags": []
   },
   "outputs": [],
   "source": [
    "idx_features_labels = np.genfromtxt(\"data/cora/cora.content\", dtype=np.dtype(str))"
   ]
  },
  {
   "cell_type": "code",
   "execution_count": 50,
   "id": "30e76bd2-b726-42cb-9680-391970d89a27",
   "metadata": {
    "execution": {
     "iopub.execute_input": "2023-10-09T02:44:54.846432Z",
     "iopub.status.busy": "2023-10-09T02:44:54.845643Z",
     "iopub.status.idle": "2023-10-09T02:44:54.853455Z",
     "shell.execute_reply": "2023-10-09T02:44:54.852800Z",
     "shell.execute_reply.started": "2023-10-09T02:44:54.846379Z"
    },
    "tags": []
   },
   "outputs": [
    {
     "data": {
      "text/plain": [
       "array([['31336', '0', '0', ..., '0', '0', 'Neural_Networks'],\n",
       "       ['1061127', '0', '0', ..., '0', '0', 'Rule_Learning'],\n",
       "       ['1106406', '0', '0', ..., '0', '0', 'Reinforcement_Learning'],\n",
       "       ...,\n",
       "       ['1128978', '0', '0', ..., '0', '0', 'Genetic_Algorithms'],\n",
       "       ['117328', '0', '0', ..., '0', '0', 'Case_Based'],\n",
       "       ['24043', '0', '0', ..., '0', '0', 'Neural_Networks']],\n",
       "      dtype='<U22')"
      ]
     },
     "execution_count": 50,
     "metadata": {},
     "output_type": "execute_result"
    }
   ],
   "source": [
    "idx_features_labels"
   ]
  },
  {
   "cell_type": "code",
   "execution_count": 51,
   "id": "de9d01a8-f5a7-46db-b67f-819c5d491d10",
   "metadata": {
    "execution": {
     "iopub.execute_input": "2023-10-09T02:45:06.858415Z",
     "iopub.status.busy": "2023-10-09T02:45:06.857620Z",
     "iopub.status.idle": "2023-10-09T02:45:06.866429Z",
     "shell.execute_reply": "2023-10-09T02:45:06.865562Z",
     "shell.execute_reply.started": "2023-10-09T02:45:06.858363Z"
    },
    "tags": []
   },
   "outputs": [
    {
     "data": {
      "text/plain": [
       "(2708, 1435)"
      ]
     },
     "execution_count": 51,
     "metadata": {},
     "output_type": "execute_result"
    }
   ],
   "source": [
    "np.shape(idx_features_labels)"
   ]
  },
  {
   "cell_type": "code",
   "execution_count": 54,
   "id": "22504a91-81a0-4e94-9fa6-2bf6243cff51",
   "metadata": {
    "execution": {
     "iopub.execute_input": "2023-10-09T05:58:09.857132Z",
     "iopub.status.busy": "2023-10-09T05:58:09.856330Z",
     "iopub.status.idle": "2023-10-09T05:58:12.076207Z",
     "shell.execute_reply": "2023-10-09T05:58:12.075074Z",
     "shell.execute_reply.started": "2023-10-09T05:58:09.857078Z"
    },
    "tags": []
   },
   "outputs": [],
   "source": [
    "features = sp.csr_matrix(idx_features_labels[:, 1:-1], dtype=np.float32)\n",
    "labels = idx_features_labels[:, -1]\n",
    "set_labels = set(labels)\n",
    "classes_dict = {c: np.arange(len(set_labels))[i] for i, c in enumerate(set_labels)}\n",
    "classes_dict = {'Neural_Networks': 0, 'Reinforcement_Learning': 1, 'Probabilistic_Methods': 2, 'Case_Based': 3, 'Theory': 4, 'Rule_Learning': 5, 'Genetic_Algorithms': 6}\n",
    "\n",
    "#ipdb.set_trace()\n",
    "labels = np.array(list(map(classes_dict.get, labels)))\n",
    "\n",
    "# build graph\n",
    "idx = np.array(idx_features_labels[:, 0], dtype=np.int32)\n",
    "idx_map = {j: i for i, j in enumerate(idx)}\n",
    "edges_unordered = np.genfromtxt(\"data/cora/cora.cites\",\n",
    "                                dtype=np.int32)\n",
    "edges = np.array(list(map(idx_map.get, edges_unordered.flatten())),\n",
    "                 dtype=np.int32).reshape(edges_unordered.shape)\n",
    "adj = sp.coo_matrix((np.ones(edges.shape[0]), (edges[:, 0], edges[:, 1])),\n",
    "                    shape=(labels.shape[0], labels.shape[0]),\n",
    "                    dtype=np.float32)"
   ]
  },
  {
   "cell_type": "code",
   "execution_count": 57,
   "id": "c2864de0-0968-44f9-86ca-a9dba8fe77d1",
   "metadata": {
    "execution": {
     "iopub.execute_input": "2023-10-10T00:44:16.787293Z",
     "iopub.status.busy": "2023-10-10T00:44:16.786505Z",
     "iopub.status.idle": "2023-10-10T00:44:16.960680Z",
     "shell.execute_reply": "2023-10-10T00:44:16.959469Z",
     "shell.execute_reply.started": "2023-10-10T00:44:16.787237Z"
    },
    "tags": []
   },
   "outputs": [
    {
     "data": {
      "text/plain": [
       "array([0, 5, 1, ..., 6, 3, 0])"
      ]
     },
     "execution_count": 57,
     "metadata": {},
     "output_type": "execute_result"
    }
   ],
   "source": [
    "labels"
   ]
  },
  {
   "cell_type": "code",
   "execution_count": 60,
   "id": "ad2773b4-dd76-4161-9af4-c8b4c939f7b4",
   "metadata": {
    "execution": {
     "iopub.execute_input": "2023-10-10T00:46:10.472627Z",
     "iopub.status.busy": "2023-10-10T00:46:10.471951Z",
     "iopub.status.idle": "2023-10-10T00:46:10.484461Z",
     "shell.execute_reply": "2023-10-10T00:46:10.483493Z",
     "shell.execute_reply.started": "2023-10-10T00:46:10.472585Z"
    },
    "tags": []
   },
   "outputs": [
    {
     "data": {
      "text/plain": [
       "{'Case_Based',\n",
       " 'Genetic_Algorithms',\n",
       " 'Neural_Networks',\n",
       " 'Probabilistic_Methods',\n",
       " 'Reinforcement_Learning',\n",
       " 'Rule_Learning',\n",
       " 'Theory'}"
      ]
     },
     "execution_count": 60,
     "metadata": {},
     "output_type": "execute_result"
    }
   ],
   "source": [
    "set(idx_features_labels[:,-1])"
   ]
  },
  {
   "cell_type": "code",
   "execution_count": 62,
   "id": "60b2542d-497e-4fa9-a81b-6aa7df72fa75",
   "metadata": {
    "execution": {
     "iopub.execute_input": "2023-10-10T00:53:06.211982Z",
     "iopub.status.busy": "2023-10-10T00:53:06.211169Z",
     "iopub.status.idle": "2023-10-10T00:53:06.220802Z",
     "shell.execute_reply": "2023-10-10T00:53:06.219805Z",
     "shell.execute_reply.started": "2023-10-10T00:53:06.211928Z"
    },
    "tags": []
   },
   "outputs": [
    {
     "data": {
      "text/plain": [
       "<function dict.get(key, default=None, /)>"
      ]
     },
     "execution_count": 62,
     "metadata": {},
     "output_type": "execute_result"
    }
   ],
   "source": [
    "classes_dict.get"
   ]
  },
  {
   "cell_type": "code",
   "execution_count": null,
   "id": "d280e2ac-4f5a-496d-96e3-2b549000d479",
   "metadata": {},
   "outputs": [],
   "source": []
  },
  {
   "cell_type": "code",
   "execution_count": null,
   "id": "98153403-7abc-497a-8e84-78666170ccc9",
   "metadata": {},
   "outputs": [],
   "source": []
  },
  {
   "cell_type": "markdown",
   "id": "05f1a121-3186-4a83-b19d-df5675cd9782",
   "metadata": {},
   "source": [
    "# DM dataset"
   ]
  },
  {
   "cell_type": "code",
   "execution_count": 73,
   "id": "910992d5-2b64-4ceb-9c2e-7a8c484dde26",
   "metadata": {
    "execution": {
     "iopub.execute_input": "2023-10-10T01:26:11.714772Z",
     "iopub.status.busy": "2023-10-10T01:26:11.714032Z",
     "iopub.status.idle": "2023-10-10T01:26:14.373616Z",
     "shell.execute_reply": "2023-10-10T01:26:14.372587Z",
     "shell.execute_reply.started": "2023-10-10T01:26:11.714699Z"
    },
    "tags": []
   },
   "outputs": [
    {
     "data": {
      "text/plain": [
       "[Data(x=[11908, 6], edge_index=[2, 557427], y=[11908]),\n",
       " Data(x=[6542, 6], edge_index=[2, 258640], y=[6542])]"
      ]
     },
     "execution_count": 73,
     "metadata": {},
     "output_type": "execute_result"
    }
   ],
   "source": [
    "def load_data(i, f, local=False, spherical=True):\n",
    "    dataset = []\n",
    "    if not local: Xlist, ylist, edgelist = [], [], []\n",
    "    \n",
    "    for num in np.arange(i,f):\n",
    "        df_sphere = pd.read_csv(f'/data1/dhhyun/DM100/df_DM{num:02}.csv', index_col=0)\n",
    "        edge_index = np.genfromtxt(f'/data1/dhhyun/DM100/DM{num:02}_graph_R1kpc.csv', delimiter=',', dtype='int')\n",
    "        edge_index = torch.tensor(edge_index, dtype=torch.long)\n",
    "        edge_index = edge_index.t().contiguous()\n",
    "\n",
    "        if local:\n",
    "            if spherical:\n",
    "                X = np.column_stack((df_sphere['r'], df_sphere['theta'], df_sphere['phi'],\n",
    "                    df_sphere['v_r'], df_sphere['v_theta'], df_sphere['v_phi']))\n",
    "            else:\n",
    "                X = np.column_stack((df_sphere['lx'], df_sphere['ly'], df_sphere['lz'],\n",
    "                    df_sphere['vx'], df_sphere['vy'], df_sphere['vz']))\n",
    "            y = np.array(df_sphere['flag']) # 1 for bound. #0 < #1\n",
    "            \n",
    "            # Normalization\n",
    "            scaler = MinMaxScaler() # axis=0 default\n",
    "            scaler.fit(X) \n",
    "            X = scaler.transform(X)\n",
    "            \n",
    "            # Data Object\n",
    "            X = torch.tensor(X, dtype=torch.float)\n",
    "            y = torch.tensor(y, dtype=torch.float) # not int32 #################### originally torch.long for class identification\n",
    "            data = Data(x=X, edge_index=edge_index, y=y)\n",
    "                        # train_mask=train_mask, test_mask=test_mask) # below\n",
    "            dataset.append(data)\n",
    "            \n",
    "        elif not local:\n",
    "            if spherical:\n",
    "                X = np.column_stack((df_sphere['gr'], df_sphere['gtheta'], df_sphere['gphi'],\n",
    "                    df_sphere['gv_r'], df_sphere['gv_theta'], df_sphere['gv_phi']))\n",
    "            else:\n",
    "                X = np.column_stack((df_sphere['x'], df_sphere['y'], df_sphere['z'],\n",
    "                    df_sphere['vx'], df_sphere['vy'], df_sphere['vz']))\n",
    "            y = np.array(df_sphere['flag']) # 1 for bound. #0 < #1\n",
    "            Xlist.append(X)\n",
    "            ylist.append(y)\n",
    "            edgelist.append(edge_index)\n",
    "            \n",
    "    # Global Scaling\n",
    "    if not local: \n",
    "        X_train = np.concatenate(Xlist[0::2], axis=0)\n",
    "        X_test = np.concatenate(Xlist[1::2], axis=0)\n",
    "        \n",
    "        # Normalization\n",
    "        scaler1 = MinMaxScaler() # axis=0 default\n",
    "        scaler1.fit(X_train) \n",
    "        scaler2 = MinMaxScaler()\n",
    "        scaler2.fit(X_test) \n",
    "        \n",
    "        for index, (X, y, edge_index) in enumerate(zip(Xlist, ylist, edgelist)):\n",
    "            if index%2==0:\n",
    "                X = scaler1.transform(X)\n",
    "            else:\n",
    "                X = scaler2.transform(X)\n",
    "                \n",
    "            # Data Object\n",
    "            X = torch.tensor(X, dtype=torch.float)\n",
    "            y = torch.tensor(y, dtype=torch.float) # not int32 ### originally torch.long for class identification\n",
    "            data = Data(x=X, edge_index=edge_index, y=y)\n",
    "            dataset.append(data)\n",
    "            \n",
    "    return dataset # [0::2], dataset[1::2] # training, test\n",
    "\n",
    "DM_dataset = load_data(0, 2, local=False, spherical=True) # 100\n",
    "DM_dataset"
   ]
  },
  {
   "cell_type": "code",
   "execution_count": 77,
   "id": "d1163dfe-1db2-40da-ba82-042c862da77b",
   "metadata": {
    "execution": {
     "iopub.execute_input": "2023-10-10T01:27:40.966692Z",
     "iopub.status.busy": "2023-10-10T01:27:40.965845Z",
     "iopub.status.idle": "2023-10-10T01:27:40.981002Z",
     "shell.execute_reply": "2023-10-10T01:27:40.979943Z",
     "shell.execute_reply.started": "2023-10-10T01:27:40.966637Z"
    },
    "tags": []
   },
   "outputs": [
    {
     "data": {
      "text/plain": [
       "tensor([[0.4328, 0.3087, 0.0541, 0.4128, 0.5851, 0.4777],\n",
       "        [0.4108, 0.3958, 0.0375, 0.4703, 0.3701, 0.3466],\n",
       "        [0.4324, 0.3897, 0.0577, 0.3324, 0.3978, 0.6752],\n",
       "        ...,\n",
       "        [0.6878, 0.2911, 0.9138, 0.3947, 0.3775, 0.6125],\n",
       "        [0.6449, 0.2894, 0.9223, 0.4080, 0.7046, 0.4262],\n",
       "        [0.5113, 0.3270, 0.9560, 0.0593, 0.5023, 0.4820]])"
      ]
     },
     "execution_count": 77,
     "metadata": {},
     "output_type": "execute_result"
    }
   ],
   "source": [
    "DM_dataset[0].x"
   ]
  },
  {
   "cell_type": "code",
   "execution_count": 94,
   "id": "e44dcdeb-4c4c-4577-8997-09a91d8bbea6",
   "metadata": {
    "execution": {
     "iopub.execute_input": "2023-10-10T01:54:04.954096Z",
     "iopub.status.busy": "2023-10-10T01:54:04.953215Z",
     "iopub.status.idle": "2023-10-10T01:54:06.591013Z",
     "shell.execute_reply": "2023-10-10T01:54:06.590316Z",
     "shell.execute_reply.started": "2023-10-10T01:54:04.954040Z"
    },
    "tags": []
   },
   "outputs": [],
   "source": [
    "i, f = 0, 1\n",
    "\n",
    "dataset = []\n",
    "Xlist, ylist, edgelist = [], [], []\n",
    "\n",
    "for num in np.arange(i,f):\n",
    "    df_sphere = pd.read_csv(f'/data1/dhhyun/DM100/df_DM{num:02}.csv', index_col=0)\n",
    "    edge_index = np.genfromtxt(f'/data1/dhhyun/DM100/DM{num:02}_graph_R1kpc.csv', delimiter=',', dtype='int')\n",
    "    edge_index = torch.tensor(edge_index, dtype=torch.long)\n",
    "    edge_index = edge_index.t().contiguous()\n",
    "    X = np.column_stack((df_sphere['gr'], df_sphere['gtheta'], df_sphere['gphi'],\n",
    "        df_sphere['gv_r'], df_sphere['gv_theta'], df_sphere['gv_phi']))\n",
    "    y = np.array(df_sphere['flag']) # 1 for bound. #0 < #1\n",
    "    Xlist.append(X)\n",
    "    ylist.append(y)\n",
    "    edgelist.append(edge_index)\n",
    "\n",
    "# Global Scaling\n",
    "# X_all = np.concatenate(Xlist, axis=0)\n",
    "\n",
    "# Normalization\n",
    "# scaler1 = MinMaxScaler() # axis=0 default\n",
    "# scaler1.fit(X_train) \n",
    "# scaler2 = MinMaxScaler()\n",
    "# scaler2.fit(X_test) \n",
    "\n",
    "# for index, (X, y, edge_index) in enumerate(zip(Xlist, ylist, edgelist)):\n",
    "#     if index%2==0:\n",
    "#         X = scaler1.transform(X)\n",
    "#     else:\n",
    "#         X = scaler2.transform(X)\n",
    "\n",
    "#     # Data Object\n",
    "#     X = torch.tensor(X, dtype=torch.float)\n",
    "#     y = torch.tensor(y, dtype=torch.float) # not int32 ### originally torch.long for class identification\n",
    "#     data = Data(x=X, edge_index=edge_index, y=y)\n",
    "#     dataset.append(data)\n"
   ]
  },
  {
   "cell_type": "code",
   "execution_count": 78,
   "id": "3152bf5d-2e51-451f-a1d2-2f987e9336d8",
   "metadata": {
    "execution": {
     "iopub.execute_input": "2023-10-10T01:41:02.479155Z",
     "iopub.status.busy": "2023-10-10T01:41:02.478366Z",
     "iopub.status.idle": "2023-10-10T01:41:02.488210Z",
     "shell.execute_reply": "2023-10-10T01:41:02.486994Z",
     "shell.execute_reply.started": "2023-10-10T01:41:02.479110Z"
    },
    "tags": []
   },
   "outputs": [
    {
     "data": {
      "text/plain": [
       "numpy.ndarray"
      ]
     },
     "execution_count": 78,
     "metadata": {},
     "output_type": "execute_result"
    }
   ],
   "source": [
    "type(idx_features_labels)"
   ]
  },
  {
   "cell_type": "code",
   "execution_count": 95,
   "id": "3d810e01-d048-4588-ace0-d00c3f1419d3",
   "metadata": {
    "execution": {
     "iopub.execute_input": "2023-10-10T01:54:13.077399Z",
     "iopub.status.busy": "2023-10-10T01:54:13.076429Z",
     "iopub.status.idle": "2023-10-10T01:54:13.085576Z",
     "shell.execute_reply": "2023-10-10T01:54:13.084884Z",
     "shell.execute_reply.started": "2023-10-10T01:54:13.077341Z"
    },
    "tags": []
   },
   "outputs": [
    {
     "data": {
      "text/plain": [
       "array([[ 1.62221557e-01,  1.29105168e+00, -6.32876273e-01,\n",
       "        -3.57837637e+01,  3.60979903e+01, -4.82972347e+00],\n",
       "       [ 1.61543278e-01,  1.30749235e+00, -6.36085279e-01,\n",
       "        -1.27740964e+01, -4.90826007e+01, -5.37676607e+01],\n",
       "       [ 1.62209479e-01,  1.30634381e+00, -6.32165711e-01,\n",
       "        -6.79265647e+01, -3.81387702e+01,  6.88768888e+01],\n",
       "       ...,\n",
       "       [ 1.70096591e-01,  1.28773903e+00, -4.65897044e-01,\n",
       "        -4.29971973e+01, -4.61580728e+01,  4.54900483e+01],\n",
       "       [ 1.68770987e-01,  1.28741252e+00, -4.64238163e-01,\n",
       "        -3.77023387e+01,  8.34849915e+01, -2.40526985e+01],\n",
       "       [ 1.64645109e-01,  1.29450466e+00, -4.57699434e-01,\n",
       "        -1.77174681e+02,  3.28329384e+00, -3.19966977e+00]])"
      ]
     },
     "execution_count": 95,
     "metadata": {},
     "output_type": "execute_result"
    }
   ],
   "source": [
    "X"
   ]
  },
  {
   "cell_type": "code",
   "execution_count": 96,
   "id": "ea8e2a70-521d-4e63-bef4-757f579a8073",
   "metadata": {
    "execution": {
     "iopub.execute_input": "2023-10-10T01:54:23.587276Z",
     "iopub.status.busy": "2023-10-10T01:54:23.586274Z",
     "iopub.status.idle": "2023-10-10T01:54:23.597987Z",
     "shell.execute_reply": "2023-10-10T01:54:23.597222Z",
     "shell.execute_reply.started": "2023-10-10T01:54:23.587214Z"
    },
    "tags": []
   },
   "outputs": [
    {
     "data": {
      "text/plain": [
       "array([[-4.39018060e-02, -3.49395615e-01,  1.71274471e-01,\n",
       "         9.68411277e+00, -9.76915152e+00,  1.30706169e+00],\n",
       "       [-1.40727674e-03, -1.13901587e-02,  5.54122728e-03,\n",
       "         1.11280946e-01,  4.27580790e-01,  4.68394472e-01],\n",
       "       [-4.46218140e-03, -3.59358965e-02,  1.73900939e-02,\n",
       "         1.86857547e+00,  1.04915022e+00, -1.89471770e+00],\n",
       "       ...,\n",
       "       [-3.98602072e-03, -3.01767038e-02,  1.09177689e-02,\n",
       "         1.00759056e+00,  1.08166209e+00, -1.06600770e+00],\n",
       "       [ 7.42767951e-03,  5.66595464e-02, -2.04313096e-02,\n",
       "        -1.65929520e+00,  3.67420828e+00, -1.05856900e+00],\n",
       "       [-9.35007531e-04, -7.35139727e-03,  2.59924161e-03,\n",
       "         1.00616206e+00, -1.86455856e-02,  1.81706906e-02]])"
      ]
     },
     "execution_count": 96,
     "metadata": {},
     "output_type": "execute_result"
    }
   ],
   "source": [
    "normalize(X)"
   ]
  },
  {
   "cell_type": "code",
   "execution_count": 100,
   "id": "46bacd57-e90c-4c1d-ad6e-fd73687c3705",
   "metadata": {
    "execution": {
     "iopub.execute_input": "2023-10-10T02:01:48.453015Z",
     "iopub.status.busy": "2023-10-10T02:01:48.452190Z",
     "iopub.status.idle": "2023-10-10T02:01:48.641024Z",
     "shell.execute_reply": "2023-10-10T02:01:48.640326Z",
     "shell.execute_reply.started": "2023-10-10T02:01:48.452961Z"
    },
    "tags": []
   },
   "outputs": [
    {
     "data": {
      "image/png": "[encoded data removed]",
      "text/plain": [
       "<Figure size 640x480 with 1 Axes>"
      ]
     },
     "metadata": {},
     "output_type": "display_data"
    }
   ],
   "source": [
    "plt.hist(X); plt.show()"
   ]
  },
  {
   "cell_type": "code",
   "execution_count": 101,
   "id": "9f143b60-c180-433e-972c-4ff9882779c5",
   "metadata": {
    "execution": {
     "iopub.execute_input": "2023-10-10T02:01:51.248114Z",
     "iopub.status.busy": "2023-10-10T02:01:51.247266Z",
     "iopub.status.idle": "2023-10-10T02:01:51.430331Z",
     "shell.execute_reply": "2023-10-10T02:01:51.429693Z",
     "shell.execute_reply.started": "2023-10-10T02:01:51.248063Z"
    },
    "tags": []
   },
   "outputs": [
    {
     "data": {
      "image/png": "[encoded data removed]",
      "text/plain": [
       "<Figure size 640x480 with 1 Axes>"
      ]
     },
     "metadata": {},
     "output_type": "display_data"
    }
   ],
   "source": [
    "plt.hist(normalize(X)); plt.show()"
   ]
  },
  {
   "cell_type": "code",
   "execution_count": 104,
   "id": "11adc06a-0124-438a-9e56-19d8b244b4d6",
   "metadata": {
    "execution": {
     "iopub.execute_input": "2023-10-10T02:02:57.246181Z",
     "iopub.status.busy": "2023-10-10T02:02:57.245316Z",
     "iopub.status.idle": "2023-10-10T02:02:57.253083Z",
     "shell.execute_reply": "2023-10-10T02:02:57.252008Z",
     "shell.execute_reply.started": "2023-10-10T02:02:57.246126Z"
    },
    "tags": []
   },
   "outputs": [
    {
     "data": {
      "text/plain": [
       "(-200.91403309059064, 200.5576480606978)"
      ]
     },
     "execution_count": 104,
     "metadata": {},
     "output_type": "execute_result"
    }
   ],
   "source": [
    "np.min(X), np.max(X)"
   ]
  },
  {
   "cell_type": "code",
   "execution_count": 103,
   "id": "e894f17f-a468-4c2e-92c0-2b9b660ec461",
   "metadata": {
    "execution": {
     "iopub.execute_input": "2023-10-10T02:02:32.914929Z",
     "iopub.status.busy": "2023-10-10T02:02:32.914065Z",
     "iopub.status.idle": "2023-10-10T02:02:32.924848Z",
     "shell.execute_reply": "2023-10-10T02:02:32.924223Z",
     "shell.execute_reply.started": "2023-10-10T02:02:32.914876Z"
    },
    "tags": []
   },
   "outputs": [
    {
     "data": {
      "text/plain": [
       "(-681.2463167364829, 693.5921566746431)"
      ]
     },
     "execution_count": 103,
     "metadata": {},
     "output_type": "execute_result"
    }
   ],
   "source": [
    "np.min(normalize(X)), np.max(normalize(X))"
   ]
  },
  {
   "cell_type": "code",
   "execution_count": 111,
   "id": "419098c9-ffe2-4d30-a2a6-d3b9956a4c2b",
   "metadata": {
    "execution": {
     "iopub.execute_input": "2023-10-10T02:10:51.534019Z",
     "iopub.status.busy": "2023-10-10T02:10:51.533245Z",
     "iopub.status.idle": "2023-10-10T02:10:51.544260Z",
     "shell.execute_reply": "2023-10-10T02:10:51.543667Z",
     "shell.execute_reply.started": "2023-10-10T02:10:51.533991Z"
    },
    "tags": []
   },
   "outputs": [
    {
     "data": {
      "text/plain": [
       "<11908x6 sparse matrix of type '<class 'numpy.float32'>'\n",
       "\twith 71448 stored elements in Compressed Sparse Row format>"
      ]
     },
     "execution_count": 111,
     "metadata": {},
     "output_type": "execute_result"
    }
   ],
   "source": [
    "X_sparse = normalize(sp.csr_matrix(X, dtype=np.float32))\n",
    "X_sparse"
   ]
  },
  {
   "cell_type": "code",
   "execution_count": 109,
   "id": "aafa9e4b-b109-4bb8-8b5c-9a6d76449e1e",
   "metadata": {
    "execution": {
     "iopub.execute_input": "2023-10-10T02:05:32.922728Z",
     "iopub.status.busy": "2023-10-10T02:05:32.922090Z",
     "iopub.status.idle": "2023-10-10T02:05:32.939634Z",
     "shell.execute_reply": "2023-10-10T02:05:32.938815Z",
     "shell.execute_reply.started": "2023-10-10T02:05:32.922685Z"
    },
    "tags": []
   },
   "outputs": [
    {
     "data": {
      "text/plain": [
       "693.64124"
      ]
     },
     "execution_count": 109,
     "metadata": {},
     "output_type": "execute_result"
    }
   ],
   "source": [
    "np.max(normalize(sp.csr_matrix(X, dtype=np.float32)))"
   ]
  },
  {
   "cell_type": "code",
   "execution_count": 110,
   "id": "393d169b-2635-4cae-8da8-45425aacf12f",
   "metadata": {
    "execution": {
     "iopub.execute_input": "2023-10-10T02:05:42.388664Z",
     "iopub.status.busy": "2023-10-10T02:05:42.387764Z",
     "iopub.status.idle": "2023-10-10T02:05:42.403602Z",
     "shell.execute_reply": "2023-10-10T02:05:42.402865Z",
     "shell.execute_reply.started": "2023-10-10T02:05:42.388606Z"
    },
    "tags": []
   },
   "outputs": [
    {
     "data": {
      "text/plain": [
       "-681.2129"
      ]
     },
     "execution_count": 110,
     "metadata": {},
     "output_type": "execute_result"
    }
   ],
   "source": [
    "np.min(normalize(sp.csr_matrix(X, dtype=np.float32)))"
   ]
  },
  {
   "cell_type": "code",
   "execution_count": 112,
   "id": "af3ff584-685b-4379-bef6-e0864515fd2e",
   "metadata": {
    "execution": {
     "iopub.execute_input": "2023-10-10T02:11:09.367680Z",
     "iopub.status.busy": "2023-10-10T02:11:09.366839Z",
     "iopub.status.idle": "2023-10-10T02:11:09.374834Z",
     "shell.execute_reply": "2023-10-10T02:11:09.373950Z",
     "shell.execute_reply.started": "2023-10-10T02:11:09.367625Z"
    },
    "tags": []
   },
   "outputs": [
    {
     "data": {
      "text/plain": [
       "11908.0"
      ]
     },
     "execution_count": 112,
     "metadata": {},
     "output_type": "execute_result"
    }
   ],
   "source": [
    "X_sparse.sum()"
   ]
  },
  {
   "cell_type": "code",
   "execution_count": 113,
   "id": "d1313d2e-64df-48f3-b4ea-1e27609a976c",
   "metadata": {
    "execution": {
     "iopub.execute_input": "2023-10-10T02:11:14.218154Z",
     "iopub.status.busy": "2023-10-10T02:11:14.217273Z",
     "iopub.status.idle": "2023-10-10T02:11:14.226282Z",
     "shell.execute_reply": "2023-10-10T02:11:14.225627Z",
     "shell.execute_reply.started": "2023-10-10T02:11:14.218100Z"
    },
    "tags": []
   },
   "outputs": [
    {
     "data": {
      "text/plain": [
       "matrix([[1.0000004 ],\n",
       "        [1.        ],\n",
       "        [0.99999964],\n",
       "        ...,\n",
       "        [0.99999964],\n",
       "        [0.9999999 ],\n",
       "        [1.        ]], dtype=float32)"
      ]
     },
     "execution_count": 113,
     "metadata": {},
     "output_type": "execute_result"
    }
   ],
   "source": [
    "X_sparse.sum(1)"
   ]
  },
  {
   "cell_type": "code",
   "execution_count": 127,
   "id": "7b32b05d-fe1b-46ce-9251-7baf6ee126b7",
   "metadata": {
    "execution": {
     "iopub.execute_input": "2023-10-10T02:14:30.732192Z",
     "iopub.status.busy": "2023-10-10T02:14:30.731329Z",
     "iopub.status.idle": "2023-10-10T02:14:30.739632Z",
     "shell.execute_reply": "2023-10-10T02:14:30.738962Z",
     "shell.execute_reply.started": "2023-10-10T02:14:30.732139Z"
    },
    "tags": []
   },
   "outputs": [
    {
     "data": {
      "text/plain": [
       "(matrix([[-4.3901835e-02, -3.4939584e-01,  1.7127459e-01,  9.6841192e+00,\n",
       "          -9.7691584e+00,  1.3070626e+00],\n",
       "         [-1.4072767e-03, -1.1390159e-02,  5.5412273e-03,  1.1128095e-01,\n",
       "           4.2758077e-01,  4.6839449e-01],\n",
       "         [-4.4621816e-03, -3.5935894e-02,  1.7390095e-02,  1.8685755e+00,\n",
       "           1.0491502e+00, -1.8947178e+00],\n",
       "         ...,\n",
       "         [-3.9860206e-03, -3.0176705e-02,  1.0917769e-02,  1.0075905e+00,\n",
       "           1.0816621e+00, -1.0660077e+00],\n",
       "         [ 7.4276784e-03,  5.6659542e-02, -2.0431308e-02, -1.6592951e+00,\n",
       "           3.6742079e+00, -1.0585688e+00],\n",
       "         [-9.3500747e-04, -7.3513971e-03,  2.5992417e-03,  1.0061620e+00,\n",
       "          -1.8645585e-02,  1.8170690e-02]], dtype=float32),\n",
       " array([[ 1.62221557e-01,  1.29105168e+00, -6.32876273e-01,\n",
       "         -3.57837637e+01,  3.60979903e+01, -4.82972347e+00],\n",
       "        [ 1.61543278e-01,  1.30749235e+00, -6.36085279e-01,\n",
       "         -1.27740964e+01, -4.90826007e+01, -5.37676607e+01],\n",
       "        [ 1.62209479e-01,  1.30634381e+00, -6.32165711e-01,\n",
       "         -6.79265647e+01, -3.81387702e+01,  6.88768888e+01],\n",
       "        ...,\n",
       "        [ 1.70096591e-01,  1.28773903e+00, -4.65897044e-01,\n",
       "         -4.29971973e+01, -4.61580728e+01,  4.54900483e+01],\n",
       "        [ 1.68770987e-01,  1.28741252e+00, -4.64238163e-01,\n",
       "         -3.77023387e+01,  8.34849915e+01, -2.40526985e+01],\n",
       "        [ 1.64645109e-01,  1.29450466e+00, -4.57699434e-01,\n",
       "         -1.77174681e+02,  3.28329384e+00, -3.19966977e+00]]))"
      ]
     },
     "execution_count": 127,
     "metadata": {},
     "output_type": "execute_result"
    }
   ],
   "source": [
    "X_sparse.todense(), X"
   ]
  },
  {
   "cell_type": "code",
   "execution_count": 122,
   "id": "7476d202-1c01-436b-b40f-416b4b4f6b3d",
   "metadata": {
    "execution": {
     "iopub.execute_input": "2023-10-10T02:12:41.985868Z",
     "iopub.status.busy": "2023-10-10T02:12:41.985073Z",
     "iopub.status.idle": "2023-10-10T02:12:41.994559Z",
     "shell.execute_reply": "2023-10-10T02:12:41.993863Z",
     "shell.execute_reply.started": "2023-10-10T02:12:41.985819Z"
    },
    "tags": []
   },
   "outputs": [
    {
     "data": {
      "text/plain": [
       "((11908, 1), (11908, 6))"
      ]
     },
     "execution_count": 122,
     "metadata": {},
     "output_type": "execute_result"
    }
   ],
   "source": [
    "np.shape(X_sparse.sum(1)), np.shape(X)"
   ]
  },
  {
   "cell_type": "code",
   "execution_count": 120,
   "id": "a22855b0-772a-4b5a-bfe4-5631683e4d40",
   "metadata": {
    "execution": {
     "iopub.execute_input": "2023-10-10T02:12:13.561683Z",
     "iopub.status.busy": "2023-10-10T02:12:13.561160Z",
     "iopub.status.idle": "2023-10-10T02:12:13.567719Z",
     "shell.execute_reply": "2023-10-10T02:12:13.567086Z",
     "shell.execute_reply.started": "2023-10-10T02:12:13.561658Z"
    },
    "tags": []
   },
   "outputs": [
    {
     "data": {
      "text/plain": [
       "(array([  0.16222156,   1.29105168,  -0.63287627, -35.78376369,\n",
       "         36.09799034,  -4.82972347]),\n",
       " -3.6950998538670827)"
      ]
     },
     "execution_count": 120,
     "metadata": {},
     "output_type": "execute_result"
    }
   ],
   "source": [
    "X[0,:], X[0,:].sum()"
   ]
  },
  {
   "cell_type": "code",
   "execution_count": 129,
   "id": "4375afbd-f714-4c3c-a2d0-ebf0bfc3b462",
   "metadata": {
    "execution": {
     "iopub.execute_input": "2023-10-10T02:16:38.432131Z",
     "iopub.status.busy": "2023-10-10T02:16:38.430546Z",
     "iopub.status.idle": "2023-10-10T02:16:38.438424Z",
     "shell.execute_reply": "2023-10-10T02:16:38.437726Z",
     "shell.execute_reply.started": "2023-10-10T02:16:38.432066Z"
    },
    "tags": []
   },
   "outputs": [
    {
     "data": {
      "text/plain": [
       "1.0000005"
      ]
     },
     "execution_count": 129,
     "metadata": {},
     "output_type": "execute_result"
    }
   ],
   "source": [
    "X_sparse.todense()[0,:].sum()"
   ]
  },
  {
   "cell_type": "code",
   "execution_count": 133,
   "id": "91a63769-7838-40d1-b0ac-b153f4e169f1",
   "metadata": {
    "execution": {
     "iopub.execute_input": "2023-10-10T03:34:10.801084Z",
     "iopub.status.busy": "2023-10-10T03:34:10.800207Z",
     "iopub.status.idle": "2023-10-10T03:34:10.811461Z",
     "shell.execute_reply": "2023-10-10T03:34:10.810832Z",
     "shell.execute_reply.started": "2023-10-10T03:34:10.801028Z"
    },
    "tags": []
   },
   "outputs": [
    {
     "data": {
      "text/plain": [
       "matrix([[0., 1., 2., 4.]], dtype=float32)"
      ]
     },
     "execution_count": 133,
     "metadata": {},
     "output_type": "execute_result"
    }
   ],
   "source": [
    "sp.csr_matrix(torch.tensor([0,1,2,4]), dtype=np.float32).todense()"
   ]
  },
  {
   "cell_type": "code",
   "execution_count": 136,
   "id": "f0744376-dad9-445e-845d-e8bd3ab42029",
   "metadata": {
    "execution": {
     "iopub.execute_input": "2023-10-10T03:35:28.691042Z",
     "iopub.status.busy": "2023-10-10T03:35:28.690181Z",
     "iopub.status.idle": "2023-10-10T03:35:28.697647Z",
     "shell.execute_reply": "2023-10-10T03:35:28.696723Z",
     "shell.execute_reply.started": "2023-10-10T03:35:28.690989Z"
    },
    "tags": []
   },
   "outputs": [
    {
     "data": {
      "text/plain": [
       "(0.1622215568099475, 0.16222155)"
      ]
     },
     "execution_count": 136,
     "metadata": {},
     "output_type": "execute_result"
    }
   ],
   "source": [
    "X[0,0], X[0,0].astype(np.float32)"
   ]
  },
  {
   "cell_type": "code",
   "execution_count": null,
   "id": "e4b33762-f429-4798-b610-27d8545533eb",
   "metadata": {},
   "outputs": [],
   "source": []
  }
 ],
 "metadata": {
  "kernelspec": {
   "display_name": "Python 3 (ipykernel)",
   "language": "python",
   "name": "python3"
  },
  "language_info": {
   "codemirror_mode": {
    "name": "ipython",
    "version": 3
   },
   "file_extension": ".py",
   "mimetype": "text/x-python",
   "name": "python",
   "nbconvert_exporter": "python",
   "pygments_lexer": "ipython3",
   "version": "3.9.7"
  }
 },
 "nbformat": 4,
 "nbformat_minor": 5
}
